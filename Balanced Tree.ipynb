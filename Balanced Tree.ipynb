{
 "cells": [
  {
   "cell_type": "code",
   "execution_count": 1,
   "id": "c45feae2",
   "metadata": {},
   "outputs": [],
   "source": [
    "import pandas as pd, seaborn as sns, matplotlib.pyplot as plt"
   ]
  },
  {
   "cell_type": "code",
   "execution_count": 2,
   "id": "2f6b12b5",
   "metadata": {},
   "outputs": [],
   "source": [
    "product_details = pd.read_csv(r\"C:\\Users\\Boggu\\Downloads\\product_details.csv\")\n",
    "product_hierarchy = pd.read_csv(r\"C:\\Users\\Boggu\\Downloads\\product_hierarchy.csv\")\n",
    "product_prices = pd.read_csv(r\"C:\\Users\\Boggu\\Downloads\\product_prices.csv\")\n",
    "product_sales = pd.read_csv(r\"C:\\Users\\Boggu\\Downloads\\sales (1).csv\")"
   ]
  },
  {
   "cell_type": "code",
   "execution_count": 3,
   "id": "0454967f",
   "metadata": {},
   "outputs": [
    {
     "data": {
      "text/html": [
       "<div>\n",
       "<style scoped>\n",
       "    .dataframe tbody tr th:only-of-type {\n",
       "        vertical-align: middle;\n",
       "    }\n",
       "\n",
       "    .dataframe tbody tr th {\n",
       "        vertical-align: top;\n",
       "    }\n",
       "\n",
       "    .dataframe thead th {\n",
       "        text-align: right;\n",
       "    }\n",
       "</style>\n",
       "<table border=\"1\" class=\"dataframe\">\n",
       "  <thead>\n",
       "    <tr style=\"text-align: right;\">\n",
       "      <th></th>\n",
       "      <th>Unnamed: 0</th>\n",
       "      <th>product_id</th>\n",
       "      <th>price</th>\n",
       "      <th>product_name</th>\n",
       "      <th>category_id</th>\n",
       "      <th>segment_id</th>\n",
       "      <th>style_id</th>\n",
       "      <th>category_name</th>\n",
       "      <th>segment_name</th>\n",
       "      <th>style_name</th>\n",
       "    </tr>\n",
       "  </thead>\n",
       "  <tbody>\n",
       "    <tr>\n",
       "      <th>0</th>\n",
       "      <td>0</td>\n",
       "      <td>c4a632</td>\n",
       "      <td>13</td>\n",
       "      <td>Navy Oversized Jeans - Womens</td>\n",
       "      <td>1</td>\n",
       "      <td>3</td>\n",
       "      <td>7</td>\n",
       "      <td>Womens</td>\n",
       "      <td>Jeans</td>\n",
       "      <td>Navy Oversized</td>\n",
       "    </tr>\n",
       "    <tr>\n",
       "      <th>1</th>\n",
       "      <td>1</td>\n",
       "      <td>e83aa3</td>\n",
       "      <td>32</td>\n",
       "      <td>Black Straight Jeans - Womens</td>\n",
       "      <td>1</td>\n",
       "      <td>3</td>\n",
       "      <td>8</td>\n",
       "      <td>Womens</td>\n",
       "      <td>Jeans</td>\n",
       "      <td>Black Straight</td>\n",
       "    </tr>\n",
       "    <tr>\n",
       "      <th>2</th>\n",
       "      <td>2</td>\n",
       "      <td>e31d39</td>\n",
       "      <td>10</td>\n",
       "      <td>Cream Relaxed Jeans - Womens</td>\n",
       "      <td>1</td>\n",
       "      <td>3</td>\n",
       "      <td>9</td>\n",
       "      <td>Womens</td>\n",
       "      <td>Jeans</td>\n",
       "      <td>Cream Relaxed</td>\n",
       "    </tr>\n",
       "    <tr>\n",
       "      <th>3</th>\n",
       "      <td>3</td>\n",
       "      <td>d5e9a6</td>\n",
       "      <td>23</td>\n",
       "      <td>Khaki Suit Jacket - Womens</td>\n",
       "      <td>1</td>\n",
       "      <td>4</td>\n",
       "      <td>10</td>\n",
       "      <td>Womens</td>\n",
       "      <td>Jacket</td>\n",
       "      <td>Khaki Suit</td>\n",
       "    </tr>\n",
       "    <tr>\n",
       "      <th>4</th>\n",
       "      <td>4</td>\n",
       "      <td>72f5d4</td>\n",
       "      <td>19</td>\n",
       "      <td>Indigo Rain Jacket - Womens</td>\n",
       "      <td>1</td>\n",
       "      <td>4</td>\n",
       "      <td>11</td>\n",
       "      <td>Womens</td>\n",
       "      <td>Jacket</td>\n",
       "      <td>Indigo Rain</td>\n",
       "    </tr>\n",
       "    <tr>\n",
       "      <th>5</th>\n",
       "      <td>5</td>\n",
       "      <td>9ec847</td>\n",
       "      <td>54</td>\n",
       "      <td>Grey Fashion Jacket - Womens</td>\n",
       "      <td>1</td>\n",
       "      <td>4</td>\n",
       "      <td>12</td>\n",
       "      <td>Womens</td>\n",
       "      <td>Jacket</td>\n",
       "      <td>Grey Fashion</td>\n",
       "    </tr>\n",
       "    <tr>\n",
       "      <th>6</th>\n",
       "      <td>6</td>\n",
       "      <td>5d267b</td>\n",
       "      <td>40</td>\n",
       "      <td>White Tee Shirt - Mens</td>\n",
       "      <td>2</td>\n",
       "      <td>5</td>\n",
       "      <td>13</td>\n",
       "      <td>Mens</td>\n",
       "      <td>Shirt</td>\n",
       "      <td>White Tee</td>\n",
       "    </tr>\n",
       "    <tr>\n",
       "      <th>7</th>\n",
       "      <td>7</td>\n",
       "      <td>c8d436</td>\n",
       "      <td>10</td>\n",
       "      <td>Teal Button Up Shirt - Mens</td>\n",
       "      <td>2</td>\n",
       "      <td>5</td>\n",
       "      <td>14</td>\n",
       "      <td>Mens</td>\n",
       "      <td>Shirt</td>\n",
       "      <td>Teal Button Up</td>\n",
       "    </tr>\n",
       "    <tr>\n",
       "      <th>8</th>\n",
       "      <td>8</td>\n",
       "      <td>2a2353</td>\n",
       "      <td>57</td>\n",
       "      <td>Blue Polo Shirt - Mens</td>\n",
       "      <td>2</td>\n",
       "      <td>5</td>\n",
       "      <td>15</td>\n",
       "      <td>Mens</td>\n",
       "      <td>Shirt</td>\n",
       "      <td>Blue Polo</td>\n",
       "    </tr>\n",
       "    <tr>\n",
       "      <th>9</th>\n",
       "      <td>9</td>\n",
       "      <td>f084eb</td>\n",
       "      <td>36</td>\n",
       "      <td>Navy Solid Socks - Mens</td>\n",
       "      <td>2</td>\n",
       "      <td>6</td>\n",
       "      <td>16</td>\n",
       "      <td>Mens</td>\n",
       "      <td>Socks</td>\n",
       "      <td>Navy Solid</td>\n",
       "    </tr>\n",
       "    <tr>\n",
       "      <th>10</th>\n",
       "      <td>10</td>\n",
       "      <td>b9a74d</td>\n",
       "      <td>17</td>\n",
       "      <td>White Striped Socks - Mens</td>\n",
       "      <td>2</td>\n",
       "      <td>6</td>\n",
       "      <td>17</td>\n",
       "      <td>Mens</td>\n",
       "      <td>Socks</td>\n",
       "      <td>White Striped</td>\n",
       "    </tr>\n",
       "    <tr>\n",
       "      <th>11</th>\n",
       "      <td>11</td>\n",
       "      <td>2feb6b</td>\n",
       "      <td>29</td>\n",
       "      <td>Pink Fluro Polkadot Socks - Mens</td>\n",
       "      <td>2</td>\n",
       "      <td>6</td>\n",
       "      <td>18</td>\n",
       "      <td>Mens</td>\n",
       "      <td>Socks</td>\n",
       "      <td>Pink Fluro Polkadot</td>\n",
       "    </tr>\n",
       "  </tbody>\n",
       "</table>\n",
       "</div>"
      ],
      "text/plain": [
       "    Unnamed: 0 product_id  price                      product_name  \\\n",
       "0            0     c4a632     13     Navy Oversized Jeans - Womens   \n",
       "1            1     e83aa3     32     Black Straight Jeans - Womens   \n",
       "2            2     e31d39     10      Cream Relaxed Jeans - Womens   \n",
       "3            3     d5e9a6     23        Khaki Suit Jacket - Womens   \n",
       "4            4     72f5d4     19       Indigo Rain Jacket - Womens   \n",
       "5            5     9ec847     54      Grey Fashion Jacket - Womens   \n",
       "6            6     5d267b     40            White Tee Shirt - Mens   \n",
       "7            7     c8d436     10       Teal Button Up Shirt - Mens   \n",
       "8            8     2a2353     57            Blue Polo Shirt - Mens   \n",
       "9            9     f084eb     36           Navy Solid Socks - Mens   \n",
       "10          10     b9a74d     17        White Striped Socks - Mens   \n",
       "11          11     2feb6b     29  Pink Fluro Polkadot Socks - Mens   \n",
       "\n",
       "    category_id  segment_id  style_id category_name segment_name  \\\n",
       "0             1           3         7        Womens        Jeans   \n",
       "1             1           3         8        Womens        Jeans   \n",
       "2             1           3         9        Womens        Jeans   \n",
       "3             1           4        10        Womens       Jacket   \n",
       "4             1           4        11        Womens       Jacket   \n",
       "5             1           4        12        Womens       Jacket   \n",
       "6             2           5        13          Mens        Shirt   \n",
       "7             2           5        14          Mens        Shirt   \n",
       "8             2           5        15          Mens        Shirt   \n",
       "9             2           6        16          Mens        Socks   \n",
       "10            2           6        17          Mens        Socks   \n",
       "11            2           6        18          Mens        Socks   \n",
       "\n",
       "             style_name  \n",
       "0        Navy Oversized  \n",
       "1        Black Straight  \n",
       "2         Cream Relaxed  \n",
       "3            Khaki Suit  \n",
       "4           Indigo Rain  \n",
       "5          Grey Fashion  \n",
       "6             White Tee  \n",
       "7        Teal Button Up  \n",
       "8             Blue Polo  \n",
       "9            Navy Solid  \n",
       "10        White Striped  \n",
       "11  Pink Fluro Polkadot  "
      ]
     },
     "execution_count": 3,
     "metadata": {},
     "output_type": "execute_result"
    }
   ],
   "source": [
    "product_details"
   ]
  },
  {
   "cell_type": "code",
   "execution_count": 4,
   "id": "819183ed",
   "metadata": {},
   "outputs": [
    {
     "name": "stdout",
     "output_type": "stream",
     "text": [
      "<class 'pandas.core.frame.DataFrame'>\n",
      "RangeIndex: 12 entries, 0 to 11\n",
      "Data columns (total 10 columns):\n",
      " #   Column         Non-Null Count  Dtype \n",
      "---  ------         --------------  ----- \n",
      " 0   Unnamed: 0     12 non-null     int64 \n",
      " 1   product_id     12 non-null     object\n",
      " 2   price          12 non-null     int64 \n",
      " 3   product_name   12 non-null     object\n",
      " 4   category_id    12 non-null     int64 \n",
      " 5   segment_id     12 non-null     int64 \n",
      " 6   style_id       12 non-null     int64 \n",
      " 7   category_name  12 non-null     object\n",
      " 8   segment_name   12 non-null     object\n",
      " 9   style_name     12 non-null     object\n",
      "dtypes: int64(5), object(5)\n",
      "memory usage: 1.1+ KB\n"
     ]
    }
   ],
   "source": [
    "product_details.info()"
   ]
  },
  {
   "cell_type": "code",
   "execution_count": 5,
   "id": "8447c450",
   "metadata": {},
   "outputs": [
    {
     "data": {
      "text/html": [
       "<div>\n",
       "<style scoped>\n",
       "    .dataframe tbody tr th:only-of-type {\n",
       "        vertical-align: middle;\n",
       "    }\n",
       "\n",
       "    .dataframe tbody tr th {\n",
       "        vertical-align: top;\n",
       "    }\n",
       "\n",
       "    .dataframe thead th {\n",
       "        text-align: right;\n",
       "    }\n",
       "</style>\n",
       "<table border=\"1\" class=\"dataframe\">\n",
       "  <thead>\n",
       "    <tr style=\"text-align: right;\">\n",
       "      <th></th>\n",
       "      <th>count</th>\n",
       "      <th>mean</th>\n",
       "      <th>std</th>\n",
       "      <th>min</th>\n",
       "      <th>25%</th>\n",
       "      <th>50%</th>\n",
       "      <th>75%</th>\n",
       "      <th>max</th>\n",
       "    </tr>\n",
       "  </thead>\n",
       "  <tbody>\n",
       "    <tr>\n",
       "      <th>Unnamed: 0</th>\n",
       "      <td>12.0</td>\n",
       "      <td>5.500000</td>\n",
       "      <td>3.605551</td>\n",
       "      <td>0.0</td>\n",
       "      <td>2.75</td>\n",
       "      <td>5.5</td>\n",
       "      <td>8.25</td>\n",
       "      <td>11.0</td>\n",
       "    </tr>\n",
       "    <tr>\n",
       "      <th>price</th>\n",
       "      <td>12.0</td>\n",
       "      <td>28.333333</td>\n",
       "      <td>16.069923</td>\n",
       "      <td>10.0</td>\n",
       "      <td>16.00</td>\n",
       "      <td>26.0</td>\n",
       "      <td>37.00</td>\n",
       "      <td>57.0</td>\n",
       "    </tr>\n",
       "    <tr>\n",
       "      <th>category_id</th>\n",
       "      <td>12.0</td>\n",
       "      <td>1.500000</td>\n",
       "      <td>0.522233</td>\n",
       "      <td>1.0</td>\n",
       "      <td>1.00</td>\n",
       "      <td>1.5</td>\n",
       "      <td>2.00</td>\n",
       "      <td>2.0</td>\n",
       "    </tr>\n",
       "    <tr>\n",
       "      <th>segment_id</th>\n",
       "      <td>12.0</td>\n",
       "      <td>4.500000</td>\n",
       "      <td>1.167748</td>\n",
       "      <td>3.0</td>\n",
       "      <td>3.75</td>\n",
       "      <td>4.5</td>\n",
       "      <td>5.25</td>\n",
       "      <td>6.0</td>\n",
       "    </tr>\n",
       "    <tr>\n",
       "      <th>style_id</th>\n",
       "      <td>12.0</td>\n",
       "      <td>12.500000</td>\n",
       "      <td>3.605551</td>\n",
       "      <td>7.0</td>\n",
       "      <td>9.75</td>\n",
       "      <td>12.5</td>\n",
       "      <td>15.25</td>\n",
       "      <td>18.0</td>\n",
       "    </tr>\n",
       "  </tbody>\n",
       "</table>\n",
       "</div>"
      ],
      "text/plain": [
       "             count       mean        std   min    25%   50%    75%   max\n",
       "Unnamed: 0    12.0   5.500000   3.605551   0.0   2.75   5.5   8.25  11.0\n",
       "price         12.0  28.333333  16.069923  10.0  16.00  26.0  37.00  57.0\n",
       "category_id   12.0   1.500000   0.522233   1.0   1.00   1.5   2.00   2.0\n",
       "segment_id    12.0   4.500000   1.167748   3.0   3.75   4.5   5.25   6.0\n",
       "style_id      12.0  12.500000   3.605551   7.0   9.75  12.5  15.25  18.0"
      ]
     },
     "execution_count": 5,
     "metadata": {},
     "output_type": "execute_result"
    }
   ],
   "source": [
    "product_details.describe().T"
   ]
  },
  {
   "cell_type": "code",
   "execution_count": 6,
   "id": "44d3e9b7",
   "metadata": {},
   "outputs": [],
   "source": [
    "product_hierarchy.set_index('Unnamed: 0', inplace = True)"
   ]
  },
  {
   "cell_type": "code",
   "execution_count": 7,
   "id": "03e9289a",
   "metadata": {},
   "outputs": [
    {
     "data": {
      "text/html": [
       "<div>\n",
       "<style scoped>\n",
       "    .dataframe tbody tr th:only-of-type {\n",
       "        vertical-align: middle;\n",
       "    }\n",
       "\n",
       "    .dataframe tbody tr th {\n",
       "        vertical-align: top;\n",
       "    }\n",
       "\n",
       "    .dataframe thead th {\n",
       "        text-align: right;\n",
       "    }\n",
       "</style>\n",
       "<table border=\"1\" class=\"dataframe\">\n",
       "  <thead>\n",
       "    <tr style=\"text-align: right;\">\n",
       "      <th></th>\n",
       "      <th>id</th>\n",
       "      <th>parent_id</th>\n",
       "      <th>level_text</th>\n",
       "      <th>level_name</th>\n",
       "    </tr>\n",
       "    <tr>\n",
       "      <th>Unnamed: 0</th>\n",
       "      <th></th>\n",
       "      <th></th>\n",
       "      <th></th>\n",
       "      <th></th>\n",
       "    </tr>\n",
       "  </thead>\n",
       "  <tbody>\n",
       "    <tr>\n",
       "      <th>0</th>\n",
       "      <td>1</td>\n",
       "      <td>NaN</td>\n",
       "      <td>Womens</td>\n",
       "      <td>Category</td>\n",
       "    </tr>\n",
       "    <tr>\n",
       "      <th>1</th>\n",
       "      <td>2</td>\n",
       "      <td>NaN</td>\n",
       "      <td>Mens</td>\n",
       "      <td>Category</td>\n",
       "    </tr>\n",
       "    <tr>\n",
       "      <th>2</th>\n",
       "      <td>3</td>\n",
       "      <td>1.0</td>\n",
       "      <td>Jeans</td>\n",
       "      <td>Segment</td>\n",
       "    </tr>\n",
       "    <tr>\n",
       "      <th>3</th>\n",
       "      <td>4</td>\n",
       "      <td>1.0</td>\n",
       "      <td>Jacket</td>\n",
       "      <td>Segment</td>\n",
       "    </tr>\n",
       "    <tr>\n",
       "      <th>4</th>\n",
       "      <td>5</td>\n",
       "      <td>2.0</td>\n",
       "      <td>Shirt</td>\n",
       "      <td>Segment</td>\n",
       "    </tr>\n",
       "    <tr>\n",
       "      <th>5</th>\n",
       "      <td>6</td>\n",
       "      <td>2.0</td>\n",
       "      <td>Socks</td>\n",
       "      <td>Segment</td>\n",
       "    </tr>\n",
       "    <tr>\n",
       "      <th>6</th>\n",
       "      <td>7</td>\n",
       "      <td>3.0</td>\n",
       "      <td>Navy Oversized</td>\n",
       "      <td>Style</td>\n",
       "    </tr>\n",
       "    <tr>\n",
       "      <th>7</th>\n",
       "      <td>8</td>\n",
       "      <td>3.0</td>\n",
       "      <td>Black Straight</td>\n",
       "      <td>Style</td>\n",
       "    </tr>\n",
       "    <tr>\n",
       "      <th>8</th>\n",
       "      <td>9</td>\n",
       "      <td>3.0</td>\n",
       "      <td>Cream Relaxed</td>\n",
       "      <td>Style</td>\n",
       "    </tr>\n",
       "    <tr>\n",
       "      <th>9</th>\n",
       "      <td>10</td>\n",
       "      <td>4.0</td>\n",
       "      <td>Khaki Suit</td>\n",
       "      <td>Style</td>\n",
       "    </tr>\n",
       "    <tr>\n",
       "      <th>10</th>\n",
       "      <td>11</td>\n",
       "      <td>4.0</td>\n",
       "      <td>Indigo Rain</td>\n",
       "      <td>Style</td>\n",
       "    </tr>\n",
       "    <tr>\n",
       "      <th>11</th>\n",
       "      <td>12</td>\n",
       "      <td>4.0</td>\n",
       "      <td>Grey Fashion</td>\n",
       "      <td>Style</td>\n",
       "    </tr>\n",
       "    <tr>\n",
       "      <th>12</th>\n",
       "      <td>13</td>\n",
       "      <td>5.0</td>\n",
       "      <td>White Tee</td>\n",
       "      <td>Style</td>\n",
       "    </tr>\n",
       "    <tr>\n",
       "      <th>13</th>\n",
       "      <td>14</td>\n",
       "      <td>5.0</td>\n",
       "      <td>Teal Button Up</td>\n",
       "      <td>Style</td>\n",
       "    </tr>\n",
       "    <tr>\n",
       "      <th>14</th>\n",
       "      <td>15</td>\n",
       "      <td>5.0</td>\n",
       "      <td>Blue Polo</td>\n",
       "      <td>Style</td>\n",
       "    </tr>\n",
       "    <tr>\n",
       "      <th>15</th>\n",
       "      <td>16</td>\n",
       "      <td>6.0</td>\n",
       "      <td>Navy Solid</td>\n",
       "      <td>Style</td>\n",
       "    </tr>\n",
       "    <tr>\n",
       "      <th>16</th>\n",
       "      <td>17</td>\n",
       "      <td>6.0</td>\n",
       "      <td>White Striped</td>\n",
       "      <td>Style</td>\n",
       "    </tr>\n",
       "    <tr>\n",
       "      <th>17</th>\n",
       "      <td>18</td>\n",
       "      <td>6.0</td>\n",
       "      <td>Pink Fluro Polkadot</td>\n",
       "      <td>Style</td>\n",
       "    </tr>\n",
       "  </tbody>\n",
       "</table>\n",
       "</div>"
      ],
      "text/plain": [
       "            id  parent_id           level_text level_name\n",
       "Unnamed: 0                                               \n",
       "0            1        NaN               Womens   Category\n",
       "1            2        NaN                 Mens   Category\n",
       "2            3        1.0                Jeans    Segment\n",
       "3            4        1.0               Jacket    Segment\n",
       "4            5        2.0                Shirt    Segment\n",
       "5            6        2.0                Socks    Segment\n",
       "6            7        3.0       Navy Oversized      Style\n",
       "7            8        3.0       Black Straight      Style\n",
       "8            9        3.0        Cream Relaxed      Style\n",
       "9           10        4.0           Khaki Suit      Style\n",
       "10          11        4.0          Indigo Rain      Style\n",
       "11          12        4.0         Grey Fashion      Style\n",
       "12          13        5.0            White Tee      Style\n",
       "13          14        5.0       Teal Button Up      Style\n",
       "14          15        5.0            Blue Polo      Style\n",
       "15          16        6.0           Navy Solid      Style\n",
       "16          17        6.0        White Striped      Style\n",
       "17          18        6.0  Pink Fluro Polkadot      Style"
      ]
     },
     "execution_count": 7,
     "metadata": {},
     "output_type": "execute_result"
    }
   ],
   "source": [
    "product_hierarchy"
   ]
  },
  {
   "cell_type": "code",
   "execution_count": 8,
   "id": "2ccb2644",
   "metadata": {},
   "outputs": [
    {
     "name": "stdout",
     "output_type": "stream",
     "text": [
      "<class 'pandas.core.frame.DataFrame'>\n",
      "Index: 18 entries, 0 to 17\n",
      "Data columns (total 4 columns):\n",
      " #   Column      Non-Null Count  Dtype  \n",
      "---  ------      --------------  -----  \n",
      " 0   id          18 non-null     int64  \n",
      " 1   parent_id   16 non-null     float64\n",
      " 2   level_text  18 non-null     object \n",
      " 3   level_name  18 non-null     object \n",
      "dtypes: float64(1), int64(1), object(2)\n",
      "memory usage: 720.0+ bytes\n"
     ]
    }
   ],
   "source": [
    "product_hierarchy.info()"
   ]
  },
  {
   "cell_type": "code",
   "execution_count": 9,
   "id": "74e126a7",
   "metadata": {},
   "outputs": [
    {
     "data": {
      "text/html": [
       "<div>\n",
       "<style scoped>\n",
       "    .dataframe tbody tr th:only-of-type {\n",
       "        vertical-align: middle;\n",
       "    }\n",
       "\n",
       "    .dataframe tbody tr th {\n",
       "        vertical-align: top;\n",
       "    }\n",
       "\n",
       "    .dataframe thead th {\n",
       "        text-align: right;\n",
       "    }\n",
       "</style>\n",
       "<table border=\"1\" class=\"dataframe\">\n",
       "  <thead>\n",
       "    <tr style=\"text-align: right;\">\n",
       "      <th></th>\n",
       "      <th>count</th>\n",
       "      <th>mean</th>\n",
       "      <th>std</th>\n",
       "      <th>min</th>\n",
       "      <th>25%</th>\n",
       "      <th>50%</th>\n",
       "      <th>75%</th>\n",
       "      <th>max</th>\n",
       "    </tr>\n",
       "  </thead>\n",
       "  <tbody>\n",
       "    <tr>\n",
       "      <th>id</th>\n",
       "      <td>18.0</td>\n",
       "      <td>9.50</td>\n",
       "      <td>5.338539</td>\n",
       "      <td>1.0</td>\n",
       "      <td>5.25</td>\n",
       "      <td>9.5</td>\n",
       "      <td>13.75</td>\n",
       "      <td>18.0</td>\n",
       "    </tr>\n",
       "    <tr>\n",
       "      <th>parent_id</th>\n",
       "      <td>16.0</td>\n",
       "      <td>3.75</td>\n",
       "      <td>1.693123</td>\n",
       "      <td>1.0</td>\n",
       "      <td>2.75</td>\n",
       "      <td>4.0</td>\n",
       "      <td>5.00</td>\n",
       "      <td>6.0</td>\n",
       "    </tr>\n",
       "  </tbody>\n",
       "</table>\n",
       "</div>"
      ],
      "text/plain": [
       "           count  mean       std  min   25%  50%    75%   max\n",
       "id          18.0  9.50  5.338539  1.0  5.25  9.5  13.75  18.0\n",
       "parent_id   16.0  3.75  1.693123  1.0  2.75  4.0   5.00   6.0"
      ]
     },
     "execution_count": 9,
     "metadata": {},
     "output_type": "execute_result"
    }
   ],
   "source": [
    "product_hierarchy.describe().T"
   ]
  },
  {
   "cell_type": "code",
   "execution_count": 10,
   "id": "b1d533dc",
   "metadata": {},
   "outputs": [],
   "source": [
    "product_prices.set_index('Unnamed: 0', inplace = True)"
   ]
  },
  {
   "cell_type": "code",
   "execution_count": 11,
   "id": "cb55013a",
   "metadata": {},
   "outputs": [
    {
     "data": {
      "text/html": [
       "<div>\n",
       "<style scoped>\n",
       "    .dataframe tbody tr th:only-of-type {\n",
       "        vertical-align: middle;\n",
       "    }\n",
       "\n",
       "    .dataframe tbody tr th {\n",
       "        vertical-align: top;\n",
       "    }\n",
       "\n",
       "    .dataframe thead th {\n",
       "        text-align: right;\n",
       "    }\n",
       "</style>\n",
       "<table border=\"1\" class=\"dataframe\">\n",
       "  <thead>\n",
       "    <tr style=\"text-align: right;\">\n",
       "      <th></th>\n",
       "      <th>id</th>\n",
       "      <th>product_id</th>\n",
       "      <th>price</th>\n",
       "    </tr>\n",
       "    <tr>\n",
       "      <th>Unnamed: 0</th>\n",
       "      <th></th>\n",
       "      <th></th>\n",
       "      <th></th>\n",
       "    </tr>\n",
       "  </thead>\n",
       "  <tbody>\n",
       "    <tr>\n",
       "      <th>0</th>\n",
       "      <td>7</td>\n",
       "      <td>c4a632</td>\n",
       "      <td>13</td>\n",
       "    </tr>\n",
       "    <tr>\n",
       "      <th>1</th>\n",
       "      <td>8</td>\n",
       "      <td>e83aa3</td>\n",
       "      <td>32</td>\n",
       "    </tr>\n",
       "    <tr>\n",
       "      <th>2</th>\n",
       "      <td>9</td>\n",
       "      <td>e31d39</td>\n",
       "      <td>10</td>\n",
       "    </tr>\n",
       "    <tr>\n",
       "      <th>3</th>\n",
       "      <td>10</td>\n",
       "      <td>d5e9a6</td>\n",
       "      <td>23</td>\n",
       "    </tr>\n",
       "    <tr>\n",
       "      <th>4</th>\n",
       "      <td>11</td>\n",
       "      <td>72f5d4</td>\n",
       "      <td>19</td>\n",
       "    </tr>\n",
       "    <tr>\n",
       "      <th>5</th>\n",
       "      <td>12</td>\n",
       "      <td>9ec847</td>\n",
       "      <td>54</td>\n",
       "    </tr>\n",
       "    <tr>\n",
       "      <th>6</th>\n",
       "      <td>13</td>\n",
       "      <td>5d267b</td>\n",
       "      <td>40</td>\n",
       "    </tr>\n",
       "    <tr>\n",
       "      <th>7</th>\n",
       "      <td>14</td>\n",
       "      <td>c8d436</td>\n",
       "      <td>10</td>\n",
       "    </tr>\n",
       "    <tr>\n",
       "      <th>8</th>\n",
       "      <td>15</td>\n",
       "      <td>2a2353</td>\n",
       "      <td>57</td>\n",
       "    </tr>\n",
       "    <tr>\n",
       "      <th>9</th>\n",
       "      <td>16</td>\n",
       "      <td>f084eb</td>\n",
       "      <td>36</td>\n",
       "    </tr>\n",
       "    <tr>\n",
       "      <th>10</th>\n",
       "      <td>17</td>\n",
       "      <td>b9a74d</td>\n",
       "      <td>17</td>\n",
       "    </tr>\n",
       "    <tr>\n",
       "      <th>11</th>\n",
       "      <td>18</td>\n",
       "      <td>2feb6b</td>\n",
       "      <td>29</td>\n",
       "    </tr>\n",
       "  </tbody>\n",
       "</table>\n",
       "</div>"
      ],
      "text/plain": [
       "            id product_id  price\n",
       "Unnamed: 0                      \n",
       "0            7     c4a632     13\n",
       "1            8     e83aa3     32\n",
       "2            9     e31d39     10\n",
       "3           10     d5e9a6     23\n",
       "4           11     72f5d4     19\n",
       "5           12     9ec847     54\n",
       "6           13     5d267b     40\n",
       "7           14     c8d436     10\n",
       "8           15     2a2353     57\n",
       "9           16     f084eb     36\n",
       "10          17     b9a74d     17\n",
       "11          18     2feb6b     29"
      ]
     },
     "execution_count": 11,
     "metadata": {},
     "output_type": "execute_result"
    }
   ],
   "source": [
    "product_prices"
   ]
  },
  {
   "cell_type": "code",
   "execution_count": 12,
   "id": "fa11bcaa",
   "metadata": {},
   "outputs": [
    {
     "name": "stdout",
     "output_type": "stream",
     "text": [
      "<class 'pandas.core.frame.DataFrame'>\n",
      "Index: 12 entries, 0 to 11\n",
      "Data columns (total 3 columns):\n",
      " #   Column      Non-Null Count  Dtype \n",
      "---  ------      --------------  ----- \n",
      " 0   id          12 non-null     int64 \n",
      " 1   product_id  12 non-null     object\n",
      " 2   price       12 non-null     int64 \n",
      "dtypes: int64(2), object(1)\n",
      "memory usage: 384.0+ bytes\n"
     ]
    }
   ],
   "source": [
    "product_prices.info()"
   ]
  },
  {
   "cell_type": "code",
   "execution_count": 13,
   "id": "a26757cf",
   "metadata": {},
   "outputs": [
    {
     "data": {
      "text/html": [
       "<div>\n",
       "<style scoped>\n",
       "    .dataframe tbody tr th:only-of-type {\n",
       "        vertical-align: middle;\n",
       "    }\n",
       "\n",
       "    .dataframe tbody tr th {\n",
       "        vertical-align: top;\n",
       "    }\n",
       "\n",
       "    .dataframe thead th {\n",
       "        text-align: right;\n",
       "    }\n",
       "</style>\n",
       "<table border=\"1\" class=\"dataframe\">\n",
       "  <thead>\n",
       "    <tr style=\"text-align: right;\">\n",
       "      <th></th>\n",
       "      <th>count</th>\n",
       "      <th>mean</th>\n",
       "      <th>std</th>\n",
       "      <th>min</th>\n",
       "      <th>25%</th>\n",
       "      <th>50%</th>\n",
       "      <th>75%</th>\n",
       "      <th>max</th>\n",
       "    </tr>\n",
       "  </thead>\n",
       "  <tbody>\n",
       "    <tr>\n",
       "      <th>id</th>\n",
       "      <td>12.0</td>\n",
       "      <td>12.500000</td>\n",
       "      <td>3.605551</td>\n",
       "      <td>7.0</td>\n",
       "      <td>9.75</td>\n",
       "      <td>12.5</td>\n",
       "      <td>15.25</td>\n",
       "      <td>18.0</td>\n",
       "    </tr>\n",
       "    <tr>\n",
       "      <th>price</th>\n",
       "      <td>12.0</td>\n",
       "      <td>28.333333</td>\n",
       "      <td>16.069923</td>\n",
       "      <td>10.0</td>\n",
       "      <td>16.00</td>\n",
       "      <td>26.0</td>\n",
       "      <td>37.00</td>\n",
       "      <td>57.0</td>\n",
       "    </tr>\n",
       "  </tbody>\n",
       "</table>\n",
       "</div>"
      ],
      "text/plain": [
       "       count       mean        std   min    25%   50%    75%   max\n",
       "id      12.0  12.500000   3.605551   7.0   9.75  12.5  15.25  18.0\n",
       "price   12.0  28.333333  16.069923  10.0  16.00  26.0  37.00  57.0"
      ]
     },
     "execution_count": 13,
     "metadata": {},
     "output_type": "execute_result"
    }
   ],
   "source": [
    "product_prices.describe().T"
   ]
  },
  {
   "cell_type": "code",
   "execution_count": 14,
   "id": "8b01490c",
   "metadata": {},
   "outputs": [],
   "source": [
    "product_sales.set_index('Unnamed: 0', inplace = True)"
   ]
  },
  {
   "cell_type": "code",
   "execution_count": 15,
   "id": "72212967",
   "metadata": {},
   "outputs": [
    {
     "data": {
      "text/html": [
       "<div>\n",
       "<style scoped>\n",
       "    .dataframe tbody tr th:only-of-type {\n",
       "        vertical-align: middle;\n",
       "    }\n",
       "\n",
       "    .dataframe tbody tr th {\n",
       "        vertical-align: top;\n",
       "    }\n",
       "\n",
       "    .dataframe thead th {\n",
       "        text-align: right;\n",
       "    }\n",
       "</style>\n",
       "<table border=\"1\" class=\"dataframe\">\n",
       "  <thead>\n",
       "    <tr style=\"text-align: right;\">\n",
       "      <th></th>\n",
       "      <th>prod_id</th>\n",
       "      <th>qty</th>\n",
       "      <th>price</th>\n",
       "      <th>discount</th>\n",
       "      <th>member</th>\n",
       "      <th>txn_id</th>\n",
       "      <th>start_txn_time</th>\n",
       "    </tr>\n",
       "    <tr>\n",
       "      <th>Unnamed: 0</th>\n",
       "      <th></th>\n",
       "      <th></th>\n",
       "      <th></th>\n",
       "      <th></th>\n",
       "      <th></th>\n",
       "      <th></th>\n",
       "      <th></th>\n",
       "    </tr>\n",
       "  </thead>\n",
       "  <tbody>\n",
       "    <tr>\n",
       "      <th>0</th>\n",
       "      <td>c4a632</td>\n",
       "      <td>4</td>\n",
       "      <td>13</td>\n",
       "      <td>17</td>\n",
       "      <td>t</td>\n",
       "      <td>54f307</td>\n",
       "      <td>2021-02-13 01:59:43.296</td>\n",
       "    </tr>\n",
       "    <tr>\n",
       "      <th>1</th>\n",
       "      <td>5d267b</td>\n",
       "      <td>4</td>\n",
       "      <td>40</td>\n",
       "      <td>17</td>\n",
       "      <td>t</td>\n",
       "      <td>54f307</td>\n",
       "      <td>2021-02-13 01:59:43.296</td>\n",
       "    </tr>\n",
       "    <tr>\n",
       "      <th>2</th>\n",
       "      <td>b9a74d</td>\n",
       "      <td>4</td>\n",
       "      <td>17</td>\n",
       "      <td>17</td>\n",
       "      <td>t</td>\n",
       "      <td>54f307</td>\n",
       "      <td>2021-02-13 01:59:43.296</td>\n",
       "    </tr>\n",
       "    <tr>\n",
       "      <th>3</th>\n",
       "      <td>2feb6b</td>\n",
       "      <td>2</td>\n",
       "      <td>29</td>\n",
       "      <td>17</td>\n",
       "      <td>t</td>\n",
       "      <td>54f307</td>\n",
       "      <td>2021-02-13 01:59:43.296</td>\n",
       "    </tr>\n",
       "    <tr>\n",
       "      <th>4</th>\n",
       "      <td>c4a632</td>\n",
       "      <td>5</td>\n",
       "      <td>13</td>\n",
       "      <td>21</td>\n",
       "      <td>t</td>\n",
       "      <td>26cc98</td>\n",
       "      <td>2021-01-19 01:39:00.3456</td>\n",
       "    </tr>\n",
       "    <tr>\n",
       "      <th>...</th>\n",
       "      <td>...</td>\n",
       "      <td>...</td>\n",
       "      <td>...</td>\n",
       "      <td>...</td>\n",
       "      <td>...</td>\n",
       "      <td>...</td>\n",
       "      <td>...</td>\n",
       "    </tr>\n",
       "    <tr>\n",
       "      <th>15090</th>\n",
       "      <td>9ec847</td>\n",
       "      <td>1</td>\n",
       "      <td>54</td>\n",
       "      <td>13</td>\n",
       "      <td>t</td>\n",
       "      <td>f15ab3</td>\n",
       "      <td>2021-03-20 12:01:22.944</td>\n",
       "    </tr>\n",
       "    <tr>\n",
       "      <th>15091</th>\n",
       "      <td>2a2353</td>\n",
       "      <td>3</td>\n",
       "      <td>57</td>\n",
       "      <td>13</td>\n",
       "      <td>t</td>\n",
       "      <td>f15ab3</td>\n",
       "      <td>2021-03-20 12:01:22.944</td>\n",
       "    </tr>\n",
       "    <tr>\n",
       "      <th>15092</th>\n",
       "      <td>e83aa3</td>\n",
       "      <td>5</td>\n",
       "      <td>32</td>\n",
       "      <td>1</td>\n",
       "      <td>t</td>\n",
       "      <td>93620b</td>\n",
       "      <td>2021-03-01 07:11:24.6624</td>\n",
       "    </tr>\n",
       "    <tr>\n",
       "      <th>15093</th>\n",
       "      <td>d5e9a6</td>\n",
       "      <td>2</td>\n",
       "      <td>23</td>\n",
       "      <td>1</td>\n",
       "      <td>t</td>\n",
       "      <td>93620b</td>\n",
       "      <td>2021-03-01 07:11:24.6624</td>\n",
       "    </tr>\n",
       "    <tr>\n",
       "      <th>15094</th>\n",
       "      <td>5d267b</td>\n",
       "      <td>2</td>\n",
       "      <td>40</td>\n",
       "      <td>1</td>\n",
       "      <td>t</td>\n",
       "      <td>93620b</td>\n",
       "      <td>2021-03-01 07:11:24.6624</td>\n",
       "    </tr>\n",
       "  </tbody>\n",
       "</table>\n",
       "<p>15095 rows × 7 columns</p>\n",
       "</div>"
      ],
      "text/plain": [
       "           prod_id  qty  price  discount member  txn_id  \\\n",
       "Unnamed: 0                                                \n",
       "0           c4a632    4     13        17      t  54f307   \n",
       "1           5d267b    4     40        17      t  54f307   \n",
       "2           b9a74d    4     17        17      t  54f307   \n",
       "3           2feb6b    2     29        17      t  54f307   \n",
       "4           c4a632    5     13        21      t  26cc98   \n",
       "...            ...  ...    ...       ...    ...     ...   \n",
       "15090       9ec847    1     54        13      t  f15ab3   \n",
       "15091       2a2353    3     57        13      t  f15ab3   \n",
       "15092       e83aa3    5     32         1      t  93620b   \n",
       "15093       d5e9a6    2     23         1      t  93620b   \n",
       "15094       5d267b    2     40         1      t  93620b   \n",
       "\n",
       "                      start_txn_time  \n",
       "Unnamed: 0                            \n",
       "0            2021-02-13 01:59:43.296  \n",
       "1            2021-02-13 01:59:43.296  \n",
       "2            2021-02-13 01:59:43.296  \n",
       "3            2021-02-13 01:59:43.296  \n",
       "4           2021-01-19 01:39:00.3456  \n",
       "...                              ...  \n",
       "15090        2021-03-20 12:01:22.944  \n",
       "15091        2021-03-20 12:01:22.944  \n",
       "15092       2021-03-01 07:11:24.6624  \n",
       "15093       2021-03-01 07:11:24.6624  \n",
       "15094       2021-03-01 07:11:24.6624  \n",
       "\n",
       "[15095 rows x 7 columns]"
      ]
     },
     "execution_count": 15,
     "metadata": {},
     "output_type": "execute_result"
    }
   ],
   "source": [
    "product_sales"
   ]
  },
  {
   "cell_type": "markdown",
   "id": "1b12e13e",
   "metadata": {},
   "source": [
    "#### What was the total quantity sold for all products?"
   ]
  },
  {
   "cell_type": "code",
   "execution_count": 16,
   "id": "1bdf299b",
   "metadata": {},
   "outputs": [],
   "source": [
    "df = pd.merge(product_details, product_sales,left_on ='product_id' ,right_on = 'prod_id' ,how = 'left')"
   ]
  },
  {
   "cell_type": "code",
   "execution_count": 17,
   "id": "47a64edc",
   "metadata": {},
   "outputs": [
    {
     "data": {
      "text/html": [
       "<div>\n",
       "<style scoped>\n",
       "    .dataframe tbody tr th:only-of-type {\n",
       "        vertical-align: middle;\n",
       "    }\n",
       "\n",
       "    .dataframe tbody tr th {\n",
       "        vertical-align: top;\n",
       "    }\n",
       "\n",
       "    .dataframe thead th {\n",
       "        text-align: right;\n",
       "    }\n",
       "</style>\n",
       "<table border=\"1\" class=\"dataframe\">\n",
       "  <thead>\n",
       "    <tr style=\"text-align: right;\">\n",
       "      <th></th>\n",
       "      <th>Unnamed: 0</th>\n",
       "      <th>product_id</th>\n",
       "      <th>price_x</th>\n",
       "      <th>product_name</th>\n",
       "      <th>category_id</th>\n",
       "      <th>segment_id</th>\n",
       "      <th>style_id</th>\n",
       "      <th>category_name</th>\n",
       "      <th>segment_name</th>\n",
       "      <th>style_name</th>\n",
       "      <th>prod_id</th>\n",
       "      <th>qty</th>\n",
       "      <th>price_y</th>\n",
       "      <th>discount</th>\n",
       "      <th>member</th>\n",
       "      <th>txn_id</th>\n",
       "      <th>start_txn_time</th>\n",
       "    </tr>\n",
       "  </thead>\n",
       "  <tbody>\n",
       "    <tr>\n",
       "      <th>0</th>\n",
       "      <td>0</td>\n",
       "      <td>c4a632</td>\n",
       "      <td>13</td>\n",
       "      <td>Navy Oversized Jeans - Womens</td>\n",
       "      <td>1</td>\n",
       "      <td>3</td>\n",
       "      <td>7</td>\n",
       "      <td>Womens</td>\n",
       "      <td>Jeans</td>\n",
       "      <td>Navy Oversized</td>\n",
       "      <td>c4a632</td>\n",
       "      <td>4</td>\n",
       "      <td>13</td>\n",
       "      <td>17</td>\n",
       "      <td>t</td>\n",
       "      <td>54f307</td>\n",
       "      <td>2021-02-13 01:59:43.296</td>\n",
       "    </tr>\n",
       "    <tr>\n",
       "      <th>1</th>\n",
       "      <td>0</td>\n",
       "      <td>c4a632</td>\n",
       "      <td>13</td>\n",
       "      <td>Navy Oversized Jeans - Womens</td>\n",
       "      <td>1</td>\n",
       "      <td>3</td>\n",
       "      <td>7</td>\n",
       "      <td>Womens</td>\n",
       "      <td>Jeans</td>\n",
       "      <td>Navy Oversized</td>\n",
       "      <td>c4a632</td>\n",
       "      <td>5</td>\n",
       "      <td>13</td>\n",
       "      <td>21</td>\n",
       "      <td>t</td>\n",
       "      <td>26cc98</td>\n",
       "      <td>2021-01-19 01:39:00.3456</td>\n",
       "    </tr>\n",
       "    <tr>\n",
       "      <th>2</th>\n",
       "      <td>0</td>\n",
       "      <td>c4a632</td>\n",
       "      <td>13</td>\n",
       "      <td>Navy Oversized Jeans - Womens</td>\n",
       "      <td>1</td>\n",
       "      <td>3</td>\n",
       "      <td>7</td>\n",
       "      <td>Womens</td>\n",
       "      <td>Jeans</td>\n",
       "      <td>Navy Oversized</td>\n",
       "      <td>c4a632</td>\n",
       "      <td>1</td>\n",
       "      <td>13</td>\n",
       "      <td>21</td>\n",
       "      <td>f</td>\n",
       "      <td>ef648d</td>\n",
       "      <td>2021-01-27 02:18:17.1648</td>\n",
       "    </tr>\n",
       "    <tr>\n",
       "      <th>3</th>\n",
       "      <td>0</td>\n",
       "      <td>c4a632</td>\n",
       "      <td>13</td>\n",
       "      <td>Navy Oversized Jeans - Womens</td>\n",
       "      <td>1</td>\n",
       "      <td>3</td>\n",
       "      <td>7</td>\n",
       "      <td>Womens</td>\n",
       "      <td>Jeans</td>\n",
       "      <td>Navy Oversized</td>\n",
       "      <td>c4a632</td>\n",
       "      <td>2</td>\n",
       "      <td>13</td>\n",
       "      <td>23</td>\n",
       "      <td>t</td>\n",
       "      <td>fba96f</td>\n",
       "      <td>2021-03-03 00:32:56.0544</td>\n",
       "    </tr>\n",
       "    <tr>\n",
       "      <th>4</th>\n",
       "      <td>0</td>\n",
       "      <td>c4a632</td>\n",
       "      <td>13</td>\n",
       "      <td>Navy Oversized Jeans - Womens</td>\n",
       "      <td>1</td>\n",
       "      <td>3</td>\n",
       "      <td>7</td>\n",
       "      <td>Womens</td>\n",
       "      <td>Jeans</td>\n",
       "      <td>Navy Oversized</td>\n",
       "      <td>c4a632</td>\n",
       "      <td>5</td>\n",
       "      <td>13</td>\n",
       "      <td>11</td>\n",
       "      <td>t</td>\n",
       "      <td>4e9268</td>\n",
       "      <td>2021-01-23 14:18:54.0576</td>\n",
       "    </tr>\n",
       "    <tr>\n",
       "      <th>...</th>\n",
       "      <td>...</td>\n",
       "      <td>...</td>\n",
       "      <td>...</td>\n",
       "      <td>...</td>\n",
       "      <td>...</td>\n",
       "      <td>...</td>\n",
       "      <td>...</td>\n",
       "      <td>...</td>\n",
       "      <td>...</td>\n",
       "      <td>...</td>\n",
       "      <td>...</td>\n",
       "      <td>...</td>\n",
       "      <td>...</td>\n",
       "      <td>...</td>\n",
       "      <td>...</td>\n",
       "      <td>...</td>\n",
       "      <td>...</td>\n",
       "    </tr>\n",
       "    <tr>\n",
       "      <th>15090</th>\n",
       "      <td>11</td>\n",
       "      <td>2feb6b</td>\n",
       "      <td>29</td>\n",
       "      <td>Pink Fluro Polkadot Socks - Mens</td>\n",
       "      <td>2</td>\n",
       "      <td>6</td>\n",
       "      <td>18</td>\n",
       "      <td>Mens</td>\n",
       "      <td>Socks</td>\n",
       "      <td>Pink Fluro Polkadot</td>\n",
       "      <td>2feb6b</td>\n",
       "      <td>5</td>\n",
       "      <td>29</td>\n",
       "      <td>21</td>\n",
       "      <td>t</td>\n",
       "      <td>e2789e</td>\n",
       "      <td>2021-02-14 13:59:15.9072</td>\n",
       "    </tr>\n",
       "    <tr>\n",
       "      <th>15091</th>\n",
       "      <td>11</td>\n",
       "      <td>2feb6b</td>\n",
       "      <td>29</td>\n",
       "      <td>Pink Fluro Polkadot Socks - Mens</td>\n",
       "      <td>2</td>\n",
       "      <td>6</td>\n",
       "      <td>18</td>\n",
       "      <td>Mens</td>\n",
       "      <td>Socks</td>\n",
       "      <td>Pink Fluro Polkadot</td>\n",
       "      <td>2feb6b</td>\n",
       "      <td>4</td>\n",
       "      <td>29</td>\n",
       "      <td>12</td>\n",
       "      <td>f</td>\n",
       "      <td>8ea245</td>\n",
       "      <td>2021-03-30 18:28:35.904</td>\n",
       "    </tr>\n",
       "    <tr>\n",
       "      <th>15092</th>\n",
       "      <td>11</td>\n",
       "      <td>2feb6b</td>\n",
       "      <td>29</td>\n",
       "      <td>Pink Fluro Polkadot Socks - Mens</td>\n",
       "      <td>2</td>\n",
       "      <td>6</td>\n",
       "      <td>18</td>\n",
       "      <td>Mens</td>\n",
       "      <td>Socks</td>\n",
       "      <td>Pink Fluro Polkadot</td>\n",
       "      <td>2feb6b</td>\n",
       "      <td>2</td>\n",
       "      <td>29</td>\n",
       "      <td>5</td>\n",
       "      <td>t</td>\n",
       "      <td>f1c999</td>\n",
       "      <td>2021-01-10 01:21:22.6368</td>\n",
       "    </tr>\n",
       "    <tr>\n",
       "      <th>15093</th>\n",
       "      <td>11</td>\n",
       "      <td>2feb6b</td>\n",
       "      <td>29</td>\n",
       "      <td>Pink Fluro Polkadot Socks - Mens</td>\n",
       "      <td>2</td>\n",
       "      <td>6</td>\n",
       "      <td>18</td>\n",
       "      <td>Mens</td>\n",
       "      <td>Socks</td>\n",
       "      <td>Pink Fluro Polkadot</td>\n",
       "      <td>2feb6b</td>\n",
       "      <td>2</td>\n",
       "      <td>29</td>\n",
       "      <td>12</td>\n",
       "      <td>f</td>\n",
       "      <td>15cfae</td>\n",
       "      <td>2021-02-09 22:01:44.6592</td>\n",
       "    </tr>\n",
       "    <tr>\n",
       "      <th>15094</th>\n",
       "      <td>11</td>\n",
       "      <td>2feb6b</td>\n",
       "      <td>29</td>\n",
       "      <td>Pink Fluro Polkadot Socks - Mens</td>\n",
       "      <td>2</td>\n",
       "      <td>6</td>\n",
       "      <td>18</td>\n",
       "      <td>Mens</td>\n",
       "      <td>Socks</td>\n",
       "      <td>Pink Fluro Polkadot</td>\n",
       "      <td>2feb6b</td>\n",
       "      <td>2</td>\n",
       "      <td>29</td>\n",
       "      <td>14</td>\n",
       "      <td>f</td>\n",
       "      <td>72cd63</td>\n",
       "      <td>2021-01-13 12:47:38.6304</td>\n",
       "    </tr>\n",
       "  </tbody>\n",
       "</table>\n",
       "<p>15095 rows × 17 columns</p>\n",
       "</div>"
      ],
      "text/plain": [
       "       Unnamed: 0 product_id  price_x                      product_name  \\\n",
       "0               0     c4a632       13     Navy Oversized Jeans - Womens   \n",
       "1               0     c4a632       13     Navy Oversized Jeans - Womens   \n",
       "2               0     c4a632       13     Navy Oversized Jeans - Womens   \n",
       "3               0     c4a632       13     Navy Oversized Jeans - Womens   \n",
       "4               0     c4a632       13     Navy Oversized Jeans - Womens   \n",
       "...           ...        ...      ...                               ...   \n",
       "15090          11     2feb6b       29  Pink Fluro Polkadot Socks - Mens   \n",
       "15091          11     2feb6b       29  Pink Fluro Polkadot Socks - Mens   \n",
       "15092          11     2feb6b       29  Pink Fluro Polkadot Socks - Mens   \n",
       "15093          11     2feb6b       29  Pink Fluro Polkadot Socks - Mens   \n",
       "15094          11     2feb6b       29  Pink Fluro Polkadot Socks - Mens   \n",
       "\n",
       "       category_id  segment_id  style_id category_name segment_name  \\\n",
       "0                1           3         7        Womens        Jeans   \n",
       "1                1           3         7        Womens        Jeans   \n",
       "2                1           3         7        Womens        Jeans   \n",
       "3                1           3         7        Womens        Jeans   \n",
       "4                1           3         7        Womens        Jeans   \n",
       "...            ...         ...       ...           ...          ...   \n",
       "15090            2           6        18          Mens        Socks   \n",
       "15091            2           6        18          Mens        Socks   \n",
       "15092            2           6        18          Mens        Socks   \n",
       "15093            2           6        18          Mens        Socks   \n",
       "15094            2           6        18          Mens        Socks   \n",
       "\n",
       "                style_name prod_id  qty  price_y  discount member  txn_id  \\\n",
       "0           Navy Oversized  c4a632    4       13        17      t  54f307   \n",
       "1           Navy Oversized  c4a632    5       13        21      t  26cc98   \n",
       "2           Navy Oversized  c4a632    1       13        21      f  ef648d   \n",
       "3           Navy Oversized  c4a632    2       13        23      t  fba96f   \n",
       "4           Navy Oversized  c4a632    5       13        11      t  4e9268   \n",
       "...                    ...     ...  ...      ...       ...    ...     ...   \n",
       "15090  Pink Fluro Polkadot  2feb6b    5       29        21      t  e2789e   \n",
       "15091  Pink Fluro Polkadot  2feb6b    4       29        12      f  8ea245   \n",
       "15092  Pink Fluro Polkadot  2feb6b    2       29         5      t  f1c999   \n",
       "15093  Pink Fluro Polkadot  2feb6b    2       29        12      f  15cfae   \n",
       "15094  Pink Fluro Polkadot  2feb6b    2       29        14      f  72cd63   \n",
       "\n",
       "                 start_txn_time  \n",
       "0       2021-02-13 01:59:43.296  \n",
       "1      2021-01-19 01:39:00.3456  \n",
       "2      2021-01-27 02:18:17.1648  \n",
       "3      2021-03-03 00:32:56.0544  \n",
       "4      2021-01-23 14:18:54.0576  \n",
       "...                         ...  \n",
       "15090  2021-02-14 13:59:15.9072  \n",
       "15091   2021-03-30 18:28:35.904  \n",
       "15092  2021-01-10 01:21:22.6368  \n",
       "15093  2021-02-09 22:01:44.6592  \n",
       "15094  2021-01-13 12:47:38.6304  \n",
       "\n",
       "[15095 rows x 17 columns]"
      ]
     },
     "execution_count": 17,
     "metadata": {},
     "output_type": "execute_result"
    }
   ],
   "source": [
    "df"
   ]
  },
  {
   "cell_type": "code",
   "execution_count": 18,
   "id": "babbc3b7",
   "metadata": {},
   "outputs": [
    {
     "data": {
      "text/plain": [
       "Unnamed: 0        0\n",
       "product_id        0\n",
       "price_x           0\n",
       "product_name      0\n",
       "category_id       0\n",
       "segment_id        0\n",
       "style_id          0\n",
       "category_name     0\n",
       "segment_name      0\n",
       "style_name        0\n",
       "prod_id           0\n",
       "qty               0\n",
       "price_y           0\n",
       "discount          0\n",
       "member            0\n",
       "txn_id            0\n",
       "start_txn_time    0\n",
       "dtype: int64"
      ]
     },
     "execution_count": 18,
     "metadata": {},
     "output_type": "execute_result"
    }
   ],
   "source": [
    "df.isna().sum()"
   ]
  },
  {
   "cell_type": "code",
   "execution_count": 19,
   "id": "37815821",
   "metadata": {},
   "outputs": [
    {
     "data": {
      "text/plain": [
       "Index(['Unnamed: 0', 'product_id', 'price_x', 'product_name', 'category_id',\n",
       "       'segment_id', 'style_id', 'category_name', 'segment_name', 'style_name',\n",
       "       'prod_id', 'qty', 'price_y', 'discount', 'member', 'txn_id',\n",
       "       'start_txn_time'],\n",
       "      dtype='object')"
      ]
     },
     "execution_count": 19,
     "metadata": {},
     "output_type": "execute_result"
    }
   ],
   "source": [
    "df.columns"
   ]
  },
  {
   "cell_type": "code",
   "execution_count": 20,
   "id": "98b6215a",
   "metadata": {},
   "outputs": [],
   "source": [
    "df['total_quantity'] = df['price_x']*df['qty']-df['discount']"
   ]
  },
  {
   "cell_type": "code",
   "execution_count": 21,
   "id": "e671bae4",
   "metadata": {},
   "outputs": [
    {
     "data": {
      "text/html": [
       "<div>\n",
       "<style scoped>\n",
       "    .dataframe tbody tr th:only-of-type {\n",
       "        vertical-align: middle;\n",
       "    }\n",
       "\n",
       "    .dataframe tbody tr th {\n",
       "        vertical-align: top;\n",
       "    }\n",
       "\n",
       "    .dataframe thead th {\n",
       "        text-align: right;\n",
       "    }\n",
       "</style>\n",
       "<table border=\"1\" class=\"dataframe\">\n",
       "  <thead>\n",
       "    <tr style=\"text-align: right;\">\n",
       "      <th></th>\n",
       "      <th>Unnamed: 0</th>\n",
       "      <th>product_id</th>\n",
       "      <th>price_x</th>\n",
       "      <th>product_name</th>\n",
       "      <th>category_id</th>\n",
       "      <th>segment_id</th>\n",
       "      <th>style_id</th>\n",
       "      <th>category_name</th>\n",
       "      <th>segment_name</th>\n",
       "      <th>style_name</th>\n",
       "      <th>prod_id</th>\n",
       "      <th>qty</th>\n",
       "      <th>price_y</th>\n",
       "      <th>discount</th>\n",
       "      <th>member</th>\n",
       "      <th>txn_id</th>\n",
       "      <th>start_txn_time</th>\n",
       "      <th>total_quantity</th>\n",
       "    </tr>\n",
       "  </thead>\n",
       "  <tbody>\n",
       "    <tr>\n",
       "      <th>0</th>\n",
       "      <td>0</td>\n",
       "      <td>c4a632</td>\n",
       "      <td>13</td>\n",
       "      <td>Navy Oversized Jeans - Womens</td>\n",
       "      <td>1</td>\n",
       "      <td>3</td>\n",
       "      <td>7</td>\n",
       "      <td>Womens</td>\n",
       "      <td>Jeans</td>\n",
       "      <td>Navy Oversized</td>\n",
       "      <td>c4a632</td>\n",
       "      <td>4</td>\n",
       "      <td>13</td>\n",
       "      <td>17</td>\n",
       "      <td>t</td>\n",
       "      <td>54f307</td>\n",
       "      <td>2021-02-13 01:59:43.296</td>\n",
       "      <td>35</td>\n",
       "    </tr>\n",
       "    <tr>\n",
       "      <th>1</th>\n",
       "      <td>0</td>\n",
       "      <td>c4a632</td>\n",
       "      <td>13</td>\n",
       "      <td>Navy Oversized Jeans - Womens</td>\n",
       "      <td>1</td>\n",
       "      <td>3</td>\n",
       "      <td>7</td>\n",
       "      <td>Womens</td>\n",
       "      <td>Jeans</td>\n",
       "      <td>Navy Oversized</td>\n",
       "      <td>c4a632</td>\n",
       "      <td>5</td>\n",
       "      <td>13</td>\n",
       "      <td>21</td>\n",
       "      <td>t</td>\n",
       "      <td>26cc98</td>\n",
       "      <td>2021-01-19 01:39:00.3456</td>\n",
       "      <td>44</td>\n",
       "    </tr>\n",
       "    <tr>\n",
       "      <th>2</th>\n",
       "      <td>0</td>\n",
       "      <td>c4a632</td>\n",
       "      <td>13</td>\n",
       "      <td>Navy Oversized Jeans - Womens</td>\n",
       "      <td>1</td>\n",
       "      <td>3</td>\n",
       "      <td>7</td>\n",
       "      <td>Womens</td>\n",
       "      <td>Jeans</td>\n",
       "      <td>Navy Oversized</td>\n",
       "      <td>c4a632</td>\n",
       "      <td>1</td>\n",
       "      <td>13</td>\n",
       "      <td>21</td>\n",
       "      <td>f</td>\n",
       "      <td>ef648d</td>\n",
       "      <td>2021-01-27 02:18:17.1648</td>\n",
       "      <td>-8</td>\n",
       "    </tr>\n",
       "    <tr>\n",
       "      <th>3</th>\n",
       "      <td>0</td>\n",
       "      <td>c4a632</td>\n",
       "      <td>13</td>\n",
       "      <td>Navy Oversized Jeans - Womens</td>\n",
       "      <td>1</td>\n",
       "      <td>3</td>\n",
       "      <td>7</td>\n",
       "      <td>Womens</td>\n",
       "      <td>Jeans</td>\n",
       "      <td>Navy Oversized</td>\n",
       "      <td>c4a632</td>\n",
       "      <td>2</td>\n",
       "      <td>13</td>\n",
       "      <td>23</td>\n",
       "      <td>t</td>\n",
       "      <td>fba96f</td>\n",
       "      <td>2021-03-03 00:32:56.0544</td>\n",
       "      <td>3</td>\n",
       "    </tr>\n",
       "    <tr>\n",
       "      <th>4</th>\n",
       "      <td>0</td>\n",
       "      <td>c4a632</td>\n",
       "      <td>13</td>\n",
       "      <td>Navy Oversized Jeans - Womens</td>\n",
       "      <td>1</td>\n",
       "      <td>3</td>\n",
       "      <td>7</td>\n",
       "      <td>Womens</td>\n",
       "      <td>Jeans</td>\n",
       "      <td>Navy Oversized</td>\n",
       "      <td>c4a632</td>\n",
       "      <td>5</td>\n",
       "      <td>13</td>\n",
       "      <td>11</td>\n",
       "      <td>t</td>\n",
       "      <td>4e9268</td>\n",
       "      <td>2021-01-23 14:18:54.0576</td>\n",
       "      <td>54</td>\n",
       "    </tr>\n",
       "    <tr>\n",
       "      <th>...</th>\n",
       "      <td>...</td>\n",
       "      <td>...</td>\n",
       "      <td>...</td>\n",
       "      <td>...</td>\n",
       "      <td>...</td>\n",
       "      <td>...</td>\n",
       "      <td>...</td>\n",
       "      <td>...</td>\n",
       "      <td>...</td>\n",
       "      <td>...</td>\n",
       "      <td>...</td>\n",
       "      <td>...</td>\n",
       "      <td>...</td>\n",
       "      <td>...</td>\n",
       "      <td>...</td>\n",
       "      <td>...</td>\n",
       "      <td>...</td>\n",
       "      <td>...</td>\n",
       "    </tr>\n",
       "    <tr>\n",
       "      <th>15090</th>\n",
       "      <td>11</td>\n",
       "      <td>2feb6b</td>\n",
       "      <td>29</td>\n",
       "      <td>Pink Fluro Polkadot Socks - Mens</td>\n",
       "      <td>2</td>\n",
       "      <td>6</td>\n",
       "      <td>18</td>\n",
       "      <td>Mens</td>\n",
       "      <td>Socks</td>\n",
       "      <td>Pink Fluro Polkadot</td>\n",
       "      <td>2feb6b</td>\n",
       "      <td>5</td>\n",
       "      <td>29</td>\n",
       "      <td>21</td>\n",
       "      <td>t</td>\n",
       "      <td>e2789e</td>\n",
       "      <td>2021-02-14 13:59:15.9072</td>\n",
       "      <td>124</td>\n",
       "    </tr>\n",
       "    <tr>\n",
       "      <th>15091</th>\n",
       "      <td>11</td>\n",
       "      <td>2feb6b</td>\n",
       "      <td>29</td>\n",
       "      <td>Pink Fluro Polkadot Socks - Mens</td>\n",
       "      <td>2</td>\n",
       "      <td>6</td>\n",
       "      <td>18</td>\n",
       "      <td>Mens</td>\n",
       "      <td>Socks</td>\n",
       "      <td>Pink Fluro Polkadot</td>\n",
       "      <td>2feb6b</td>\n",
       "      <td>4</td>\n",
       "      <td>29</td>\n",
       "      <td>12</td>\n",
       "      <td>f</td>\n",
       "      <td>8ea245</td>\n",
       "      <td>2021-03-30 18:28:35.904</td>\n",
       "      <td>104</td>\n",
       "    </tr>\n",
       "    <tr>\n",
       "      <th>15092</th>\n",
       "      <td>11</td>\n",
       "      <td>2feb6b</td>\n",
       "      <td>29</td>\n",
       "      <td>Pink Fluro Polkadot Socks - Mens</td>\n",
       "      <td>2</td>\n",
       "      <td>6</td>\n",
       "      <td>18</td>\n",
       "      <td>Mens</td>\n",
       "      <td>Socks</td>\n",
       "      <td>Pink Fluro Polkadot</td>\n",
       "      <td>2feb6b</td>\n",
       "      <td>2</td>\n",
       "      <td>29</td>\n",
       "      <td>5</td>\n",
       "      <td>t</td>\n",
       "      <td>f1c999</td>\n",
       "      <td>2021-01-10 01:21:22.6368</td>\n",
       "      <td>53</td>\n",
       "    </tr>\n",
       "    <tr>\n",
       "      <th>15093</th>\n",
       "      <td>11</td>\n",
       "      <td>2feb6b</td>\n",
       "      <td>29</td>\n",
       "      <td>Pink Fluro Polkadot Socks - Mens</td>\n",
       "      <td>2</td>\n",
       "      <td>6</td>\n",
       "      <td>18</td>\n",
       "      <td>Mens</td>\n",
       "      <td>Socks</td>\n",
       "      <td>Pink Fluro Polkadot</td>\n",
       "      <td>2feb6b</td>\n",
       "      <td>2</td>\n",
       "      <td>29</td>\n",
       "      <td>12</td>\n",
       "      <td>f</td>\n",
       "      <td>15cfae</td>\n",
       "      <td>2021-02-09 22:01:44.6592</td>\n",
       "      <td>46</td>\n",
       "    </tr>\n",
       "    <tr>\n",
       "      <th>15094</th>\n",
       "      <td>11</td>\n",
       "      <td>2feb6b</td>\n",
       "      <td>29</td>\n",
       "      <td>Pink Fluro Polkadot Socks - Mens</td>\n",
       "      <td>2</td>\n",
       "      <td>6</td>\n",
       "      <td>18</td>\n",
       "      <td>Mens</td>\n",
       "      <td>Socks</td>\n",
       "      <td>Pink Fluro Polkadot</td>\n",
       "      <td>2feb6b</td>\n",
       "      <td>2</td>\n",
       "      <td>29</td>\n",
       "      <td>14</td>\n",
       "      <td>f</td>\n",
       "      <td>72cd63</td>\n",
       "      <td>2021-01-13 12:47:38.6304</td>\n",
       "      <td>44</td>\n",
       "    </tr>\n",
       "  </tbody>\n",
       "</table>\n",
       "<p>15095 rows × 18 columns</p>\n",
       "</div>"
      ],
      "text/plain": [
       "       Unnamed: 0 product_id  price_x                      product_name  \\\n",
       "0               0     c4a632       13     Navy Oversized Jeans - Womens   \n",
       "1               0     c4a632       13     Navy Oversized Jeans - Womens   \n",
       "2               0     c4a632       13     Navy Oversized Jeans - Womens   \n",
       "3               0     c4a632       13     Navy Oversized Jeans - Womens   \n",
       "4               0     c4a632       13     Navy Oversized Jeans - Womens   \n",
       "...           ...        ...      ...                               ...   \n",
       "15090          11     2feb6b       29  Pink Fluro Polkadot Socks - Mens   \n",
       "15091          11     2feb6b       29  Pink Fluro Polkadot Socks - Mens   \n",
       "15092          11     2feb6b       29  Pink Fluro Polkadot Socks - Mens   \n",
       "15093          11     2feb6b       29  Pink Fluro Polkadot Socks - Mens   \n",
       "15094          11     2feb6b       29  Pink Fluro Polkadot Socks - Mens   \n",
       "\n",
       "       category_id  segment_id  style_id category_name segment_name  \\\n",
       "0                1           3         7        Womens        Jeans   \n",
       "1                1           3         7        Womens        Jeans   \n",
       "2                1           3         7        Womens        Jeans   \n",
       "3                1           3         7        Womens        Jeans   \n",
       "4                1           3         7        Womens        Jeans   \n",
       "...            ...         ...       ...           ...          ...   \n",
       "15090            2           6        18          Mens        Socks   \n",
       "15091            2           6        18          Mens        Socks   \n",
       "15092            2           6        18          Mens        Socks   \n",
       "15093            2           6        18          Mens        Socks   \n",
       "15094            2           6        18          Mens        Socks   \n",
       "\n",
       "                style_name prod_id  qty  price_y  discount member  txn_id  \\\n",
       "0           Navy Oversized  c4a632    4       13        17      t  54f307   \n",
       "1           Navy Oversized  c4a632    5       13        21      t  26cc98   \n",
       "2           Navy Oversized  c4a632    1       13        21      f  ef648d   \n",
       "3           Navy Oversized  c4a632    2       13        23      t  fba96f   \n",
       "4           Navy Oversized  c4a632    5       13        11      t  4e9268   \n",
       "...                    ...     ...  ...      ...       ...    ...     ...   \n",
       "15090  Pink Fluro Polkadot  2feb6b    5       29        21      t  e2789e   \n",
       "15091  Pink Fluro Polkadot  2feb6b    4       29        12      f  8ea245   \n",
       "15092  Pink Fluro Polkadot  2feb6b    2       29         5      t  f1c999   \n",
       "15093  Pink Fluro Polkadot  2feb6b    2       29        12      f  15cfae   \n",
       "15094  Pink Fluro Polkadot  2feb6b    2       29        14      f  72cd63   \n",
       "\n",
       "                 start_txn_time  total_quantity  \n",
       "0       2021-02-13 01:59:43.296              35  \n",
       "1      2021-01-19 01:39:00.3456              44  \n",
       "2      2021-01-27 02:18:17.1648              -8  \n",
       "3      2021-03-03 00:32:56.0544               3  \n",
       "4      2021-01-23 14:18:54.0576              54  \n",
       "...                         ...             ...  \n",
       "15090  2021-02-14 13:59:15.9072             124  \n",
       "15091   2021-03-30 18:28:35.904             104  \n",
       "15092  2021-01-10 01:21:22.6368              53  \n",
       "15093  2021-02-09 22:01:44.6592              46  \n",
       "15094  2021-01-13 12:47:38.6304              44  \n",
       "\n",
       "[15095 rows x 18 columns]"
      ]
     },
     "execution_count": 21,
     "metadata": {},
     "output_type": "execute_result"
    }
   ],
   "source": [
    "df"
   ]
  },
  {
   "cell_type": "code",
   "execution_count": 22,
   "id": "ca93a045",
   "metadata": {},
   "outputs": [],
   "source": [
    "a = df.groupby('product_id')['total_quantity'].sum()"
   ]
  },
  {
   "cell_type": "code",
   "execution_count": 23,
   "id": "7ab21e6e",
   "metadata": {},
   "outputs": [
    {
     "data": {
      "text/plain": [
       "1106753"
      ]
     },
     "execution_count": 23,
     "metadata": {},
     "output_type": "execute_result"
    }
   ],
   "source": [
    "a.sum()"
   ]
  },
  {
   "cell_type": "markdown",
   "id": "eb87a84a",
   "metadata": {},
   "source": [
    "#### the total quantity sold for all products is: 1106753"
   ]
  },
  {
   "cell_type": "markdown",
   "id": "18468470",
   "metadata": {},
   "source": [
    "#### 2 What is the total generated revenue for all products before discounts?"
   ]
  },
  {
   "cell_type": "code",
   "execution_count": 24,
   "id": "457e12eb",
   "metadata": {},
   "outputs": [
    {
     "data": {
      "text/plain": [
       "Index(['Unnamed: 0', 'product_id', 'price_x', 'product_name', 'category_id',\n",
       "       'segment_id', 'style_id', 'category_name', 'segment_name', 'style_name',\n",
       "       'prod_id', 'qty', 'price_y', 'discount', 'member', 'txn_id',\n",
       "       'start_txn_time', 'total_quantity'],\n",
       "      dtype='object')"
      ]
     },
     "execution_count": 24,
     "metadata": {},
     "output_type": "execute_result"
    }
   ],
   "source": [
    "df.columns"
   ]
  },
  {
   "cell_type": "code",
   "execution_count": 25,
   "id": "ce29da05",
   "metadata": {},
   "outputs": [],
   "source": [
    "df['total_revenue'] = df['price_x']*df['qty']"
   ]
  },
  {
   "cell_type": "code",
   "execution_count": 26,
   "id": "23ca82e3",
   "metadata": {},
   "outputs": [
    {
     "data": {
      "text/plain": [
       "1289453"
      ]
     },
     "execution_count": 26,
     "metadata": {},
     "output_type": "execute_result"
    }
   ],
   "source": [
    "df['total_revenue'].sum()"
   ]
  },
  {
   "cell_type": "markdown",
   "id": "84d7dfaf",
   "metadata": {},
   "source": [
    "#### the total generated revenue for all products before discounts: 1289453"
   ]
  },
  {
   "cell_type": "markdown",
   "id": "9a9a0534",
   "metadata": {},
   "source": [
    "#### What was the total discount amount for all products?"
   ]
  },
  {
   "cell_type": "code",
   "execution_count": 27,
   "id": "ff34b53e",
   "metadata": {},
   "outputs": [
    {
     "data": {
      "text/plain": [
       "182700"
      ]
     },
     "execution_count": 27,
     "metadata": {},
     "output_type": "execute_result"
    }
   ],
   "source": [
    "df['discount'].sum()"
   ]
  },
  {
   "cell_type": "markdown",
   "id": "067e431c",
   "metadata": {},
   "source": [
    "#### the total discount amount for all products: 182700"
   ]
  },
  {
   "cell_type": "markdown",
   "id": "d8b7f564",
   "metadata": {},
   "source": [
    "#### How many unique transactions were there?"
   ]
  },
  {
   "cell_type": "code",
   "execution_count": 28,
   "id": "16c8af62",
   "metadata": {},
   "outputs": [
    {
     "data": {
      "text/plain": [
       "Index(['Unnamed: 0', 'product_id', 'price_x', 'product_name', 'category_id',\n",
       "       'segment_id', 'style_id', 'category_name', 'segment_name', 'style_name',\n",
       "       'prod_id', 'qty', 'price_y', 'discount', 'member', 'txn_id',\n",
       "       'start_txn_time', 'total_quantity', 'total_revenue'],\n",
       "      dtype='object')"
      ]
     },
     "execution_count": 28,
     "metadata": {},
     "output_type": "execute_result"
    }
   ],
   "source": [
    "df.columns"
   ]
  },
  {
   "cell_type": "code",
   "execution_count": 29,
   "id": "9af12ed2",
   "metadata": {},
   "outputs": [
    {
     "data": {
      "text/plain": [
       "2500"
      ]
     },
     "execution_count": 29,
     "metadata": {},
     "output_type": "execute_result"
    }
   ],
   "source": [
    "df['txn_id'].nunique()"
   ]
  },
  {
   "cell_type": "markdown",
   "id": "1870e576",
   "metadata": {},
   "source": [
    "####  What is the average unique products purchased in each transaction?"
   ]
  },
  {
   "cell_type": "code",
   "execution_count": 30,
   "id": "afad4766",
   "metadata": {},
   "outputs": [
    {
     "data": {
      "text/plain": [
       "Index(['Unnamed: 0', 'product_id', 'price_x', 'product_name', 'category_id',\n",
       "       'segment_id', 'style_id', 'category_name', 'segment_name', 'style_name',\n",
       "       'prod_id', 'qty', 'price_y', 'discount', 'member', 'txn_id',\n",
       "       'start_txn_time', 'total_quantity', 'total_revenue'],\n",
       "      dtype='object')"
      ]
     },
     "execution_count": 30,
     "metadata": {},
     "output_type": "execute_result"
    }
   ],
   "source": [
    "df.columns"
   ]
  },
  {
   "cell_type": "code",
   "execution_count": 31,
   "id": "9df73a88",
   "metadata": {},
   "outputs": [
    {
     "data": {
      "text/html": [
       "<div>\n",
       "<style scoped>\n",
       "    .dataframe tbody tr th:only-of-type {\n",
       "        vertical-align: middle;\n",
       "    }\n",
       "\n",
       "    .dataframe tbody tr th {\n",
       "        vertical-align: top;\n",
       "    }\n",
       "\n",
       "    .dataframe thead th {\n",
       "        text-align: right;\n",
       "    }\n",
       "</style>\n",
       "<table border=\"1\" class=\"dataframe\">\n",
       "  <thead>\n",
       "    <tr style=\"text-align: right;\">\n",
       "      <th></th>\n",
       "      <th>prod_id</th>\n",
       "      <th>qty</th>\n",
       "      <th>price</th>\n",
       "      <th>discount</th>\n",
       "      <th>member</th>\n",
       "      <th>txn_id</th>\n",
       "      <th>start_txn_time</th>\n",
       "    </tr>\n",
       "    <tr>\n",
       "      <th>Unnamed: 0</th>\n",
       "      <th></th>\n",
       "      <th></th>\n",
       "      <th></th>\n",
       "      <th></th>\n",
       "      <th></th>\n",
       "      <th></th>\n",
       "      <th></th>\n",
       "    </tr>\n",
       "  </thead>\n",
       "  <tbody>\n",
       "    <tr>\n",
       "      <th>0</th>\n",
       "      <td>c4a632</td>\n",
       "      <td>4</td>\n",
       "      <td>13</td>\n",
       "      <td>17</td>\n",
       "      <td>t</td>\n",
       "      <td>54f307</td>\n",
       "      <td>2021-02-13 01:59:43.296</td>\n",
       "    </tr>\n",
       "    <tr>\n",
       "      <th>1</th>\n",
       "      <td>5d267b</td>\n",
       "      <td>4</td>\n",
       "      <td>40</td>\n",
       "      <td>17</td>\n",
       "      <td>t</td>\n",
       "      <td>54f307</td>\n",
       "      <td>2021-02-13 01:59:43.296</td>\n",
       "    </tr>\n",
       "    <tr>\n",
       "      <th>2</th>\n",
       "      <td>b9a74d</td>\n",
       "      <td>4</td>\n",
       "      <td>17</td>\n",
       "      <td>17</td>\n",
       "      <td>t</td>\n",
       "      <td>54f307</td>\n",
       "      <td>2021-02-13 01:59:43.296</td>\n",
       "    </tr>\n",
       "    <tr>\n",
       "      <th>3</th>\n",
       "      <td>2feb6b</td>\n",
       "      <td>2</td>\n",
       "      <td>29</td>\n",
       "      <td>17</td>\n",
       "      <td>t</td>\n",
       "      <td>54f307</td>\n",
       "      <td>2021-02-13 01:59:43.296</td>\n",
       "    </tr>\n",
       "    <tr>\n",
       "      <th>4</th>\n",
       "      <td>c4a632</td>\n",
       "      <td>5</td>\n",
       "      <td>13</td>\n",
       "      <td>21</td>\n",
       "      <td>t</td>\n",
       "      <td>26cc98</td>\n",
       "      <td>2021-01-19 01:39:00.3456</td>\n",
       "    </tr>\n",
       "    <tr>\n",
       "      <th>...</th>\n",
       "      <td>...</td>\n",
       "      <td>...</td>\n",
       "      <td>...</td>\n",
       "      <td>...</td>\n",
       "      <td>...</td>\n",
       "      <td>...</td>\n",
       "      <td>...</td>\n",
       "    </tr>\n",
       "    <tr>\n",
       "      <th>15090</th>\n",
       "      <td>9ec847</td>\n",
       "      <td>1</td>\n",
       "      <td>54</td>\n",
       "      <td>13</td>\n",
       "      <td>t</td>\n",
       "      <td>f15ab3</td>\n",
       "      <td>2021-03-20 12:01:22.944</td>\n",
       "    </tr>\n",
       "    <tr>\n",
       "      <th>15091</th>\n",
       "      <td>2a2353</td>\n",
       "      <td>3</td>\n",
       "      <td>57</td>\n",
       "      <td>13</td>\n",
       "      <td>t</td>\n",
       "      <td>f15ab3</td>\n",
       "      <td>2021-03-20 12:01:22.944</td>\n",
       "    </tr>\n",
       "    <tr>\n",
       "      <th>15092</th>\n",
       "      <td>e83aa3</td>\n",
       "      <td>5</td>\n",
       "      <td>32</td>\n",
       "      <td>1</td>\n",
       "      <td>t</td>\n",
       "      <td>93620b</td>\n",
       "      <td>2021-03-01 07:11:24.6624</td>\n",
       "    </tr>\n",
       "    <tr>\n",
       "      <th>15093</th>\n",
       "      <td>d5e9a6</td>\n",
       "      <td>2</td>\n",
       "      <td>23</td>\n",
       "      <td>1</td>\n",
       "      <td>t</td>\n",
       "      <td>93620b</td>\n",
       "      <td>2021-03-01 07:11:24.6624</td>\n",
       "    </tr>\n",
       "    <tr>\n",
       "      <th>15094</th>\n",
       "      <td>5d267b</td>\n",
       "      <td>2</td>\n",
       "      <td>40</td>\n",
       "      <td>1</td>\n",
       "      <td>t</td>\n",
       "      <td>93620b</td>\n",
       "      <td>2021-03-01 07:11:24.6624</td>\n",
       "    </tr>\n",
       "  </tbody>\n",
       "</table>\n",
       "<p>15095 rows × 7 columns</p>\n",
       "</div>"
      ],
      "text/plain": [
       "           prod_id  qty  price  discount member  txn_id  \\\n",
       "Unnamed: 0                                                \n",
       "0           c4a632    4     13        17      t  54f307   \n",
       "1           5d267b    4     40        17      t  54f307   \n",
       "2           b9a74d    4     17        17      t  54f307   \n",
       "3           2feb6b    2     29        17      t  54f307   \n",
       "4           c4a632    5     13        21      t  26cc98   \n",
       "...            ...  ...    ...       ...    ...     ...   \n",
       "15090       9ec847    1     54        13      t  f15ab3   \n",
       "15091       2a2353    3     57        13      t  f15ab3   \n",
       "15092       e83aa3    5     32         1      t  93620b   \n",
       "15093       d5e9a6    2     23         1      t  93620b   \n",
       "15094       5d267b    2     40         1      t  93620b   \n",
       "\n",
       "                      start_txn_time  \n",
       "Unnamed: 0                            \n",
       "0            2021-02-13 01:59:43.296  \n",
       "1            2021-02-13 01:59:43.296  \n",
       "2            2021-02-13 01:59:43.296  \n",
       "3            2021-02-13 01:59:43.296  \n",
       "4           2021-01-19 01:39:00.3456  \n",
       "...                              ...  \n",
       "15090        2021-03-20 12:01:22.944  \n",
       "15091        2021-03-20 12:01:22.944  \n",
       "15092       2021-03-01 07:11:24.6624  \n",
       "15093       2021-03-01 07:11:24.6624  \n",
       "15094       2021-03-01 07:11:24.6624  \n",
       "\n",
       "[15095 rows x 7 columns]"
      ]
     },
     "execution_count": 31,
     "metadata": {},
     "output_type": "execute_result"
    }
   ],
   "source": [
    "product_sales"
   ]
  },
  {
   "cell_type": "code",
   "execution_count": 32,
   "id": "feafac2e",
   "metadata": {},
   "outputs": [],
   "source": [
    "a = product_sales.groupby('txn_id')['prod_id'].nunique()"
   ]
  },
  {
   "cell_type": "code",
   "execution_count": 33,
   "id": "aca20a3c",
   "metadata": {},
   "outputs": [
    {
     "data": {
      "text/plain": [
       "6.038"
      ]
     },
     "execution_count": 33,
     "metadata": {},
     "output_type": "execute_result"
    }
   ],
   "source": [
    "a.mean()"
   ]
  },
  {
   "cell_type": "markdown",
   "id": "c5b6df0d",
   "metadata": {},
   "source": [
    "#### the average unique products purchased in each transaction: 6.038"
   ]
  },
  {
   "cell_type": "markdown",
   "id": "44c107f3",
   "metadata": {},
   "source": [
    "#### What are the 25th, 50th and 75th percentile values for the revenue per transaction?"
   ]
  },
  {
   "cell_type": "code",
   "execution_count": 34,
   "id": "619a5021",
   "metadata": {},
   "outputs": [],
   "source": [
    "a = df['total_revenue'].quantile([0.25,0.50,0.75])"
   ]
  },
  {
   "cell_type": "markdown",
   "id": "23fa384d",
   "metadata": {},
   "source": [
    "#### What is the average discount value per transaction?"
   ]
  },
  {
   "cell_type": "code",
   "execution_count": 35,
   "id": "45365adb",
   "metadata": {},
   "outputs": [
    {
     "data": {
      "text/plain": [
       "Index(['Unnamed: 0', 'product_id', 'price_x', 'product_name', 'category_id',\n",
       "       'segment_id', 'style_id', 'category_name', 'segment_name', 'style_name',\n",
       "       'prod_id', 'qty', 'price_y', 'discount', 'member', 'txn_id',\n",
       "       'start_txn_time', 'total_quantity', 'total_revenue'],\n",
       "      dtype='object')"
      ]
     },
     "execution_count": 35,
     "metadata": {},
     "output_type": "execute_result"
    }
   ],
   "source": [
    "df.columns"
   ]
  },
  {
   "cell_type": "code",
   "execution_count": 36,
   "id": "0a55ca1c",
   "metadata": {},
   "outputs": [
    {
     "data": {
      "text/plain": [
       "73.08"
      ]
     },
     "execution_count": 36,
     "metadata": {},
     "output_type": "execute_result"
    }
   ],
   "source": [
    "df.groupby('txn_id')['discount'].sum().mean()"
   ]
  },
  {
   "cell_type": "markdown",
   "id": "09cd89e0",
   "metadata": {},
   "source": [
    "#### the average discount value per transaction: 73.08"
   ]
  },
  {
   "cell_type": "markdown",
   "id": "163a5e91",
   "metadata": {},
   "source": [
    "#### What is the percentage split of all transactions for members vs non-members?"
   ]
  },
  {
   "cell_type": "code",
   "execution_count": 37,
   "id": "fc6d17f7",
   "metadata": {},
   "outputs": [],
   "source": [
    "members = len(df[df['member']=='t'])\n",
    "non_members = len(df[df['member']=='f'])"
   ]
  },
  {
   "cell_type": "code",
   "execution_count": 38,
   "id": "976a0cfe",
   "metadata": {},
   "outputs": [],
   "source": [
    "member_percentage = members/ members + non_members * 100\n",
    "non_member_percentage = non_members / members + non_members * 100"
   ]
  },
  {
   "cell_type": "code",
   "execution_count": 39,
   "id": "d958050c",
   "metadata": {},
   "outputs": [
    {
     "data": {
      "text/plain": [
       "(603401.0, 603400.6659309127)"
      ]
     },
     "execution_count": 39,
     "metadata": {},
     "output_type": "execute_result"
    }
   ],
   "source": [
    "member_percentage ,non_member_percentage "
   ]
  },
  {
   "cell_type": "markdown",
   "id": "6a049de4",
   "metadata": {},
   "source": [
    "####  What is the average revenue for member transactions and non-member transactions?"
   ]
  },
  {
   "cell_type": "code",
   "execution_count": 40,
   "id": "a2bfd310",
   "metadata": {},
   "outputs": [
    {
     "data": {
      "text/plain": [
       "85.75035868005739"
      ]
     },
     "execution_count": 40,
     "metadata": {},
     "output_type": "execute_result"
    }
   ],
   "source": [
    "df[df['member'] == 't']['total_revenue'].mean()"
   ]
  },
  {
   "cell_type": "code",
   "execution_count": 41,
   "id": "4dce512a",
   "metadata": {},
   "outputs": [
    {
     "data": {
      "text/plain": [
       "84.9302287040106"
      ]
     },
     "execution_count": 41,
     "metadata": {},
     "output_type": "execute_result"
    }
   ],
   "source": [
    "df[df['member'] == 'f']['total_revenue'].mean()"
   ]
  },
  {
   "cell_type": "markdown",
   "id": "30653f14",
   "metadata": {},
   "source": [
    "### product analysis"
   ]
  },
  {
   "cell_type": "markdown",
   "id": "f5fff830",
   "metadata": {},
   "source": [
    "#### What are the top 3 products by total revenue before discount?"
   ]
  },
  {
   "cell_type": "code",
   "execution_count": 42,
   "id": "ece65223",
   "metadata": {},
   "outputs": [
    {
     "data": {
      "text/plain": [
       "Index(['Unnamed: 0', 'product_id', 'price_x', 'product_name', 'category_id',\n",
       "       'segment_id', 'style_id', 'category_name', 'segment_name', 'style_name',\n",
       "       'prod_id', 'qty', 'price_y', 'discount', 'member', 'txn_id',\n",
       "       'start_txn_time', 'total_quantity', 'total_revenue'],\n",
       "      dtype='object')"
      ]
     },
     "execution_count": 42,
     "metadata": {},
     "output_type": "execute_result"
    }
   ],
   "source": [
    "df.columns"
   ]
  },
  {
   "cell_type": "code",
   "execution_count": 43,
   "id": "0e87f3d5",
   "metadata": {},
   "outputs": [
    {
     "data": {
      "text/plain": [
       "product_name\n",
       "Blue Polo Shirt - Mens          217683\n",
       "Grey Fashion Jacket - Womens    209304\n",
       "White Tee Shirt - Mens          152000\n",
       "Name: total_revenue, dtype: int64"
      ]
     },
     "execution_count": 43,
     "metadata": {},
     "output_type": "execute_result"
    }
   ],
   "source": [
    "df.groupby('product_name')['total_revenue'].sum().nlargest(3)"
   ]
  },
  {
   "cell_type": "markdown",
   "id": "35115ede",
   "metadata": {},
   "source": [
    "#### What is the total quantity, revenue and discount for each segment?"
   ]
  },
  {
   "cell_type": "code",
   "execution_count": 44,
   "id": "e5aa5b5d",
   "metadata": {},
   "outputs": [
    {
     "data": {
      "text/html": [
       "<div>\n",
       "<style scoped>\n",
       "    .dataframe tbody tr th:only-of-type {\n",
       "        vertical-align: middle;\n",
       "    }\n",
       "\n",
       "    .dataframe tbody tr th {\n",
       "        vertical-align: top;\n",
       "    }\n",
       "\n",
       "    .dataframe thead th {\n",
       "        text-align: right;\n",
       "    }\n",
       "</style>\n",
       "<table border=\"1\" class=\"dataframe\">\n",
       "  <thead>\n",
       "    <tr style=\"text-align: right;\">\n",
       "      <th></th>\n",
       "      <th>total_revenue</th>\n",
       "      <th>discount</th>\n",
       "      <th>qty</th>\n",
       "    </tr>\n",
       "    <tr>\n",
       "      <th>segment_name</th>\n",
       "      <th></th>\n",
       "      <th></th>\n",
       "      <th></th>\n",
       "    </tr>\n",
       "  </thead>\n",
       "  <tbody>\n",
       "    <tr>\n",
       "      <th>Jacket</th>\n",
       "      <td>366983</td>\n",
       "      <td>45452</td>\n",
       "      <td>11385</td>\n",
       "    </tr>\n",
       "    <tr>\n",
       "      <th>Jeans</th>\n",
       "      <td>208350</td>\n",
       "      <td>45740</td>\n",
       "      <td>11349</td>\n",
       "    </tr>\n",
       "    <tr>\n",
       "      <th>Shirt</th>\n",
       "      <td>406143</td>\n",
       "      <td>46043</td>\n",
       "      <td>11265</td>\n",
       "    </tr>\n",
       "    <tr>\n",
       "      <th>Socks</th>\n",
       "      <td>307977</td>\n",
       "      <td>45465</td>\n",
       "      <td>11217</td>\n",
       "    </tr>\n",
       "  </tbody>\n",
       "</table>\n",
       "</div>"
      ],
      "text/plain": [
       "              total_revenue  discount    qty\n",
       "segment_name                                \n",
       "Jacket               366983     45452  11385\n",
       "Jeans                208350     45740  11349\n",
       "Shirt                406143     46043  11265\n",
       "Socks                307977     45465  11217"
      ]
     },
     "execution_count": 44,
     "metadata": {},
     "output_type": "execute_result"
    }
   ],
   "source": [
    "df.groupby('segment_name').agg({'total_revenue': 'sum','discount': 'sum','qty':'sum'})"
   ]
  },
  {
   "cell_type": "markdown",
   "id": "f2e55b5f",
   "metadata": {},
   "source": [
    "#### What is the top selling product for each segment?"
   ]
  },
  {
   "cell_type": "code",
   "execution_count": 45,
   "id": "77778660",
   "metadata": {},
   "outputs": [
    {
     "data": {
      "text/plain": [
       "segment_name  product_name                    \n",
       "Jacket        Grey Fashion Jacket - Womens         6264\n",
       "              Indigo Rain Jacket - Womens          5012\n",
       "              Khaki Suit Jacket - Womens           3767\n",
       "Jeans         Black Straight Jeans - Womens        1274\n",
       "              Cream Relaxed Jeans - Womens         2521\n",
       "              Navy Oversized Jeans - Womens           1\n",
       "Shirt         Blue Polo Shirt - Mens              10050\n",
       "              Teal Button Up Shirt - Mens          8805\n",
       "              White Tee Shirt - Mens               7537\n",
       "Socks         Navy Solid Socks - Mens             11321\n",
       "              Pink Fluro Polkadot Socks - Mens    13839\n",
       "              White Striped Socks - Mens          12608\n",
       "Name: qty, dtype: int64"
      ]
     },
     "execution_count": 45,
     "metadata": {},
     "output_type": "execute_result"
    }
   ],
   "source": [
    "df.groupby(['segment_name','product_name'])['qty'].idxmax()"
   ]
  },
  {
   "cell_type": "markdown",
   "id": "15c8aa37",
   "metadata": {},
   "source": [
    "#### What is the total quantity, revenue and discount for each category?"
   ]
  },
  {
   "cell_type": "code",
   "execution_count": 46,
   "id": "d41cb3a0",
   "metadata": {},
   "outputs": [
    {
     "data": {
      "text/html": [
       "<div>\n",
       "<style scoped>\n",
       "    .dataframe tbody tr th:only-of-type {\n",
       "        vertical-align: middle;\n",
       "    }\n",
       "\n",
       "    .dataframe tbody tr th {\n",
       "        vertical-align: top;\n",
       "    }\n",
       "\n",
       "    .dataframe thead th {\n",
       "        text-align: right;\n",
       "    }\n",
       "</style>\n",
       "<table border=\"1\" class=\"dataframe\">\n",
       "  <thead>\n",
       "    <tr style=\"text-align: right;\">\n",
       "      <th></th>\n",
       "      <th>total_revenue</th>\n",
       "      <th>discount</th>\n",
       "      <th>qty</th>\n",
       "    </tr>\n",
       "    <tr>\n",
       "      <th>category_name</th>\n",
       "      <th></th>\n",
       "      <th></th>\n",
       "      <th></th>\n",
       "    </tr>\n",
       "  </thead>\n",
       "  <tbody>\n",
       "    <tr>\n",
       "      <th>Mens</th>\n",
       "      <td>714120</td>\n",
       "      <td>91508</td>\n",
       "      <td>22482</td>\n",
       "    </tr>\n",
       "    <tr>\n",
       "      <th>Womens</th>\n",
       "      <td>575333</td>\n",
       "      <td>91192</td>\n",
       "      <td>22734</td>\n",
       "    </tr>\n",
       "  </tbody>\n",
       "</table>\n",
       "</div>"
      ],
      "text/plain": [
       "               total_revenue  discount    qty\n",
       "category_name                                \n",
       "Mens                  714120     91508  22482\n",
       "Womens                575333     91192  22734"
      ]
     },
     "execution_count": 46,
     "metadata": {},
     "output_type": "execute_result"
    }
   ],
   "source": [
    "df.groupby('category_name').agg({'total_revenue': 'sum','discount': 'sum','qty':'sum'})"
   ]
  },
  {
   "cell_type": "markdown",
   "id": "cf58a6f9",
   "metadata": {},
   "source": [
    "#### What is the top selling product for each category?"
   ]
  },
  {
   "cell_type": "code",
   "execution_count": 47,
   "id": "2111e07a",
   "metadata": {},
   "outputs": [
    {
     "data": {
      "text/html": [
       "<div>\n",
       "<style scoped>\n",
       "    .dataframe tbody tr th:only-of-type {\n",
       "        vertical-align: middle;\n",
       "    }\n",
       "\n",
       "    .dataframe tbody tr th {\n",
       "        vertical-align: top;\n",
       "    }\n",
       "\n",
       "    .dataframe thead th {\n",
       "        text-align: right;\n",
       "    }\n",
       "</style>\n",
       "<table border=\"1\" class=\"dataframe\">\n",
       "  <thead>\n",
       "    <tr style=\"text-align: right;\">\n",
       "      <th></th>\n",
       "      <th>Unnamed: 0</th>\n",
       "      <th>product_id</th>\n",
       "      <th>price_x</th>\n",
       "      <th>product_name</th>\n",
       "      <th>category_id</th>\n",
       "      <th>segment_id</th>\n",
       "      <th>style_id</th>\n",
       "      <th>category_name</th>\n",
       "      <th>segment_name</th>\n",
       "      <th>style_name</th>\n",
       "      <th>prod_id</th>\n",
       "      <th>qty</th>\n",
       "      <th>price_y</th>\n",
       "      <th>discount</th>\n",
       "      <th>member</th>\n",
       "      <th>txn_id</th>\n",
       "      <th>start_txn_time</th>\n",
       "      <th>total_quantity</th>\n",
       "      <th>total_revenue</th>\n",
       "    </tr>\n",
       "  </thead>\n",
       "  <tbody>\n",
       "    <tr>\n",
       "      <th>10229</th>\n",
       "      <td>8</td>\n",
       "      <td>2a2353</td>\n",
       "      <td>57</td>\n",
       "      <td>Blue Polo Shirt - Mens</td>\n",
       "      <td>2</td>\n",
       "      <td>5</td>\n",
       "      <td>15</td>\n",
       "      <td>Mens</td>\n",
       "      <td>Shirt</td>\n",
       "      <td>Blue Polo</td>\n",
       "      <td>2a2353</td>\n",
       "      <td>5</td>\n",
       "      <td>57</td>\n",
       "      <td>0</td>\n",
       "      <td>t</td>\n",
       "      <td>95a52d</td>\n",
       "      <td>2021-02-03 21:13:03.3024</td>\n",
       "      <td>285</td>\n",
       "      <td>285</td>\n",
       "    </tr>\n",
       "    <tr>\n",
       "      <th>6329</th>\n",
       "      <td>5</td>\n",
       "      <td>9ec847</td>\n",
       "      <td>54</td>\n",
       "      <td>Grey Fashion Jacket - Womens</td>\n",
       "      <td>1</td>\n",
       "      <td>4</td>\n",
       "      <td>12</td>\n",
       "      <td>Womens</td>\n",
       "      <td>Jacket</td>\n",
       "      <td>Grey Fashion</td>\n",
       "      <td>9ec847</td>\n",
       "      <td>5</td>\n",
       "      <td>54</td>\n",
       "      <td>0</td>\n",
       "      <td>f</td>\n",
       "      <td>248e0e</td>\n",
       "      <td>2021-01-26 07:40:45.0624</td>\n",
       "      <td>270</td>\n",
       "      <td>270</td>\n",
       "    </tr>\n",
       "  </tbody>\n",
       "</table>\n",
       "</div>"
      ],
      "text/plain": [
       "       Unnamed: 0 product_id  price_x                  product_name  \\\n",
       "10229           8     2a2353       57        Blue Polo Shirt - Mens   \n",
       "6329            5     9ec847       54  Grey Fashion Jacket - Womens   \n",
       "\n",
       "       category_id  segment_id  style_id category_name segment_name  \\\n",
       "10229            2           5        15          Mens        Shirt   \n",
       "6329             1           4        12        Womens       Jacket   \n",
       "\n",
       "         style_name prod_id  qty  price_y  discount member  txn_id  \\\n",
       "10229     Blue Polo  2a2353    5       57         0      t  95a52d   \n",
       "6329   Grey Fashion  9ec847    5       54         0      f  248e0e   \n",
       "\n",
       "                 start_txn_time  total_quantity  total_revenue  \n",
       "10229  2021-02-03 21:13:03.3024             285            285  \n",
       "6329   2021-01-26 07:40:45.0624             270            270  "
      ]
     },
     "execution_count": 47,
     "metadata": {},
     "output_type": "execute_result"
    }
   ],
   "source": [
    "df.loc[df.groupby('category_name')['total_quantity'].idxmax()]"
   ]
  },
  {
   "cell_type": "markdown",
   "id": "06d131eb",
   "metadata": {},
   "source": [
    "####  What is the percentage split of revenue by product for each segment?"
   ]
  },
  {
   "cell_type": "code",
   "execution_count": 48,
   "id": "40304692",
   "metadata": {},
   "outputs": [],
   "source": [
    "a = df.groupby(['segment_name', 'product_name'])['total_revenue'].sum()"
   ]
  },
  {
   "cell_type": "code",
   "execution_count": 49,
   "id": "072bae79",
   "metadata": {},
   "outputs": [
    {
     "data": {
      "text/plain": [
       "segment_name  product_name                    \n",
       "Jacket        Grey Fashion Jacket - Womens        209304\n",
       "              Indigo Rain Jacket - Womens          71383\n",
       "              Khaki Suit Jacket - Womens           86296\n",
       "Jeans         Black Straight Jeans - Womens       121152\n",
       "              Cream Relaxed Jeans - Womens         37070\n",
       "              Navy Oversized Jeans - Womens        50128\n",
       "Shirt         Blue Polo Shirt - Mens              217683\n",
       "              Teal Button Up Shirt - Mens          36460\n",
       "              White Tee Shirt - Mens              152000\n",
       "Socks         Navy Solid Socks - Mens             136512\n",
       "              Pink Fluro Polkadot Socks - Mens    109330\n",
       "              White Striped Socks - Mens           62135\n",
       "Name: total_revenue, dtype: int64"
      ]
     },
     "execution_count": 49,
     "metadata": {},
     "output_type": "execute_result"
    }
   ],
   "source": [
    "a"
   ]
  },
  {
   "cell_type": "code",
   "execution_count": 50,
   "id": "f91e34f9",
   "metadata": {},
   "outputs": [],
   "source": [
    "b = df.groupby('segment_name')['total_revenue'].sum()"
   ]
  },
  {
   "cell_type": "code",
   "execution_count": 51,
   "id": "e3d081a3",
   "metadata": {},
   "outputs": [
    {
     "data": {
      "text/plain": [
       "segment_name\n",
       "Jacket    366983\n",
       "Jeans     208350\n",
       "Shirt     406143\n",
       "Socks     307977\n",
       "Name: total_revenue, dtype: int64"
      ]
     },
     "execution_count": 51,
     "metadata": {},
     "output_type": "execute_result"
    }
   ],
   "source": [
    "b"
   ]
  },
  {
   "cell_type": "code",
   "execution_count": 52,
   "id": "2fa30482",
   "metadata": {},
   "outputs": [],
   "source": [
    "percentage_split = a/b*100"
   ]
  },
  {
   "cell_type": "code",
   "execution_count": 53,
   "id": "a5cff49c",
   "metadata": {},
   "outputs": [
    {
     "data": {
      "text/plain": [
       "segment_name  product_name                    \n",
       "Jacket        Grey Fashion Jacket - Womens        57.033705\n",
       "              Indigo Rain Jacket - Womens         19.451310\n",
       "              Khaki Suit Jacket - Womens          23.514986\n",
       "Jeans         Black Straight Jeans - Womens       58.148308\n",
       "              Cream Relaxed Jeans - Womens        17.792177\n",
       "              Navy Oversized Jeans - Womens       24.059515\n",
       "Shirt         Blue Polo Shirt - Mens              53.597624\n",
       "              Teal Button Up Shirt - Mens          8.977134\n",
       "              White Tee Shirt - Mens              37.425242\n",
       "Socks         Navy Solid Socks - Mens             44.325388\n",
       "              Pink Fluro Polkadot Socks - Mens    35.499404\n",
       "              White Striped Socks - Mens          20.175208\n",
       "Name: total_revenue, dtype: float64"
      ]
     },
     "execution_count": 53,
     "metadata": {},
     "output_type": "execute_result"
    }
   ],
   "source": [
    "percentage_split"
   ]
  },
  {
   "cell_type": "code",
   "execution_count": null,
   "id": "d7cfc1b2",
   "metadata": {},
   "outputs": [],
   "source": []
  },
  {
   "cell_type": "markdown",
   "id": "517fc0a8",
   "metadata": {},
   "source": [
    "#### what is the percentage split of revenue by segment for each category?"
   ]
  },
  {
   "cell_type": "code",
   "execution_count": 54,
   "id": "619b5ef0",
   "metadata": {},
   "outputs": [],
   "source": [
    "a = df.groupby(['segment_name', 'product_name','category_id'])['total_revenue'].sum()"
   ]
  },
  {
   "cell_type": "code",
   "execution_count": 55,
   "id": "bd02a17a",
   "metadata": {},
   "outputs": [
    {
     "data": {
      "text/plain": [
       "segment_name  product_name                      category_id\n",
       "Jacket        Grey Fashion Jacket - Womens      1              209304\n",
       "              Indigo Rain Jacket - Womens       1               71383\n",
       "              Khaki Suit Jacket - Womens        1               86296\n",
       "Jeans         Black Straight Jeans - Womens     1              121152\n",
       "              Cream Relaxed Jeans - Womens      1               37070\n",
       "              Navy Oversized Jeans - Womens     1               50128\n",
       "Shirt         Blue Polo Shirt - Mens            2              217683\n",
       "              Teal Button Up Shirt - Mens       2               36460\n",
       "              White Tee Shirt - Mens            2              152000\n",
       "Socks         Navy Solid Socks - Mens           2              136512\n",
       "              Pink Fluro Polkadot Socks - Mens  2              109330\n",
       "              White Striped Socks - Mens        2               62135\n",
       "Name: total_revenue, dtype: int64"
      ]
     },
     "execution_count": 55,
     "metadata": {},
     "output_type": "execute_result"
    }
   ],
   "source": [
    "a"
   ]
  },
  {
   "cell_type": "code",
   "execution_count": 56,
   "id": "f3e5abcd",
   "metadata": {},
   "outputs": [],
   "source": [
    "b = df.groupby(['category_id'])['total_revenue'].sum()"
   ]
  },
  {
   "cell_type": "code",
   "execution_count": 57,
   "id": "158eca71",
   "metadata": {},
   "outputs": [
    {
     "data": {
      "text/plain": [
       "category_id\n",
       "1    575333\n",
       "2    714120\n",
       "Name: total_revenue, dtype: int64"
      ]
     },
     "execution_count": 57,
     "metadata": {},
     "output_type": "execute_result"
    }
   ],
   "source": [
    "b"
   ]
  },
  {
   "cell_type": "code",
   "execution_count": 58,
   "id": "faa1e9d8",
   "metadata": {},
   "outputs": [],
   "source": [
    "percentage_split = a/b*100"
   ]
  },
  {
   "cell_type": "code",
   "execution_count": 59,
   "id": "e6f15443",
   "metadata": {},
   "outputs": [
    {
     "data": {
      "text/plain": [
       "segment_name  product_name                      category_id\n",
       "Jacket        Grey Fashion Jacket - Womens      1              36.379627\n",
       "              Indigo Rain Jacket - Womens       1              12.407249\n",
       "              Khaki Suit Jacket - Womens        1              14.999313\n",
       "Jeans         Black Straight Jeans - Womens     1              21.057718\n",
       "              Cream Relaxed Jeans - Womens      1               6.443225\n",
       "              Navy Oversized Jeans - Womens     1               8.712867\n",
       "Shirt         Blue Polo Shirt - Mens            2              30.482692\n",
       "              Teal Button Up Shirt - Mens       2               5.105584\n",
       "              White Tee Shirt - Mens            2              21.284938\n",
       "Socks         Navy Solid Socks - Mens           2              19.116115\n",
       "              Pink Fluro Polkadot Socks - Mens  2              15.309752\n",
       "              White Striped Socks - Mens        2               8.700919\n",
       "Name: total_revenue, dtype: float64"
      ]
     },
     "execution_count": 59,
     "metadata": {},
     "output_type": "execute_result"
    }
   ],
   "source": [
    "percentage_split "
   ]
  },
  {
   "cell_type": "markdown",
   "id": "d6a6b6de",
   "metadata": {},
   "source": [
    "#### What is the percentage split of total revenue by category?"
   ]
  },
  {
   "cell_type": "code",
   "execution_count": 60,
   "id": "1940698b",
   "metadata": {},
   "outputs": [],
   "source": [
    "a = df.groupby('category_name')['total_revenue'].sum()"
   ]
  },
  {
   "cell_type": "code",
   "execution_count": 61,
   "id": "8708f8b8",
   "metadata": {},
   "outputs": [],
   "source": [
    "b = a.sum()"
   ]
  },
  {
   "cell_type": "code",
   "execution_count": 62,
   "id": "20ace9a9",
   "metadata": {},
   "outputs": [],
   "source": [
    "percentage_split = a/b*100"
   ]
  },
  {
   "cell_type": "code",
   "execution_count": 63,
   "id": "9713108d",
   "metadata": {},
   "outputs": [
    {
     "data": {
      "text/plain": [
       "category_name\n",
       "Mens      55.381623\n",
       "Womens    44.618377\n",
       "Name: total_revenue, dtype: float64"
      ]
     },
     "execution_count": 63,
     "metadata": {},
     "output_type": "execute_result"
    }
   ],
   "source": [
    "percentage_split"
   ]
  },
  {
   "cell_type": "code",
   "execution_count": null,
   "id": "92e15926",
   "metadata": {},
   "outputs": [],
   "source": []
  }
 ],
 "metadata": {
  "kernelspec": {
   "display_name": "Python 3 (ipykernel)",
   "language": "python",
   "name": "python3"
  },
  "language_info": {
   "codemirror_mode": {
    "name": "ipython",
    "version": 3
   },
   "file_extension": ".py",
   "mimetype": "text/x-python",
   "name": "python",
   "nbconvert_exporter": "python",
   "pygments_lexer": "ipython3",
   "version": "3.11.5"
  }
 },
 "nbformat": 4,
 "nbformat_minor": 5
}
